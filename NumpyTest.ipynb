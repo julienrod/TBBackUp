{
 "cells": [
  {
   "cell_type": "code",
   "execution_count": 1,
   "metadata": {},
   "outputs": [],
   "source": [
    "#Tutorial from https://www.kdnuggets.com/2018/04/building-convolutional-neural-network-numpy-scratch.html\n",
    "import skimage.data\n",
    "# Reading the image\n",
    "img = skimage.data.chelsea()\n",
    "# Converting the image into gray\n",
    "img = skimage.color.rgb2gray(img)"
   ]
  },
  {
   "cell_type": "code",
   "execution_count": 2,
   "metadata": {},
   "outputs": [],
   "source": [
    "import numpy\n",
    "l1_filter = numpy.zeros((2,3,3))"
   ]
  },
  {
   "cell_type": "code",
   "execution_count": 3,
   "metadata": {},
   "outputs": [],
   "source": [
    "l1_filter[0, :, :] = numpy.array([[[-1, 0, 1],\n",
    "                                  [-1, 0, 1],\n",
    "                                  [-1, 0, 1]]])\n",
    "l1_filter[1, :, :] = numpy.array([[[1, 1, 1],\n",
    "                                  [0, 0, 0],\n",
    "                                  [-1, -1, -1]]])"
   ]
  },
  {
   "cell_type": "code",
   "execution_count": 4,
   "metadata": {},
   "outputs": [],
   "source": [
    "def conv_(img, conv_filter):\n",
    "    filter_size = conv_filter.shape[0]\n",
    "    result = numpy.zeros((img.shape))\n",
    "    #Looping through the image to apply the convolution operation.\n",
    "    for r in numpy.uint16(numpy.arange(filter_size/2,\n",
    "                          img.shape[0]-filter_size/2-2)):\n",
    "        for c in numpy.uint16(numpy.arange(filter_size/2,\n",
    "                              img.shape[1]-filter_size/2-2)):\n",
    "            #Getting the current region to get multiplied with filter.\n",
    "            curr_region = img[r:r+filter_size,c:c+filter_size]\n",
    "            #Element-wise multiplication betwween the current region and the filter.\n",
    "            curr_result = curr_region * conv_filter\n",
    "            conv_sum = numpy.sum(curr_result) #Summing the result of multiplication.\n",
    "            result[r, c] = conv_sum #Saving the summation in the convolution layer feature map.\n",
    "            \n",
    "        #Clipping the outliers of the result matrix.\n",
    "        final_result = result[numpy.uint16(filter_size/2):\n",
    "                             result.shape[0]-numpy.uint16(\n",
    "                                 filter_size/2),\n",
    "                             numpy.uint16(filter_size/2):\n",
    "                             result.shape[1]-numpy.uint16(\n",
    "                                 filter_size/2)]\n",
    "        return final_result"
   ]
  },
  {
   "cell_type": "code",
   "execution_count": 5,
   "metadata": {},
   "outputs": [],
   "source": [
    "def conv(img, conv_filter):\n",
    "    if len(img.shape) > 2 or len(conv_filter.shape) > 3: # Check if number of image channels matches the filter depth\n",
    "        if img.shape[-1] != conv_filter.shape[-1]:\n",
    "            print(\"Error: Number of channels in both image\",\n",
    "             \"and filter must match.\")\n",
    "            sys.exit()\n",
    "    if conv_filter.shape[1] != conv_filter.shape[2]: # Check if filter dimensions are equal.\n",
    "        print('Error: Filter must be a square matrix. I.e.',\n",
    "             'number of rows and columns must match.')\n",
    "        sys.exit()\n",
    "    if conv_filter.shape[1]%2 == 0: # Check if filter dimensions are odd.\n",
    "        print('Error: Filter must have odd size. I.e.',\n",
    "             'number of rows and columns must be odd.')\n",
    "        sys.exit()\n",
    "        \n",
    "    # An empty feature map to hold the output of convolving the filter(s) with the image.\n",
    "    feature_maps = numpy.zeros((img.shape[0]-conv_filter.shape[1]+1,\n",
    "                               img.shape[1]-conv_filter.shape[1]+1,\n",
    "                               conv_filter.shape[0]))\n",
    "    # Convolving the image by the filter(s).\n",
    "    for filter_num in range(conv_filter.shape[0]):\n",
    "        print(\"Filter \", filter_num + 1)\n",
    "        curr_filter = conv_filter[filter_num, :] # getting a filter from the bank.\n",
    "        \"\"\"\n",
    "        Checking if there are multiple channels for the single filter.\n",
    "        If so, then each channel will convolve the image.\n",
    "        The result of all convolutions are summed to return a single feature map.\n",
    "        \"\"\"\n",
    "        if len(curr_filter.shape) > 2:\n",
    "            conv_map = conv_(img[:, :, 0], curr_filter[:, :, 0]) # Array holding the sum of all feature maps.\n",
    "            for ch_num in range(1, curr_filter.shape[-1]): # Convolving each channel with the image and summing the results.\n",
    "                conv_map = conv_map + conv_(img[:, :, ch_num],\n",
    "                                           curr_filter[:, :, ch_num])\n",
    "        else: # There is just a single channel in the filter.\n",
    "            conv_map = conv_(img, curr_filter)\n",
    "        feature_maps[:, :, filter_num] = conv_map # Holding feature map with the current filter.\n",
    "    return feature_maps # Returning all feature maps."
   ]
  },
  {
   "cell_type": "code",
   "execution_count": 6,
   "metadata": {},
   "outputs": [
    {
     "name": "stdout",
     "output_type": "stream",
     "text": [
      "Filter  1\n",
      "Filter  2\n"
     ]
    }
   ],
   "source": [
    "l1_feature_map = conv(img, l1_filter)"
   ]
  },
  {
   "cell_type": "code",
   "execution_count": 11,
   "metadata": {},
   "outputs": [],
   "source": [
    "def relu(feature_map):\n",
    "    #Preparing the output of the ReLU activation function.\n",
    "    relu_out = numpy.zeros(feature_map.shape)\n",
    "    for map_num in range(feature_map.shape[-1]):\n",
    "        for r in numpy.arange(0, feature_map.shape[0]):\n",
    "            for c in numpy.arange(0, feature_map.shape[1]):\n",
    "                relu_out[r, c, map_num] = numpy.max(\n",
    "                    feature_map[r, c, map_num], 0)\n",
    "    return relu_out"
   ]
  },
  {
   "cell_type": "code",
   "execution_count": 12,
   "metadata": {},
   "outputs": [],
   "source": [
    "l1_feature_map_relu = relu(l1_feature_map)"
   ]
  },
  {
   "cell_type": "code",
   "execution_count": 15,
   "metadata": {},
   "outputs": [],
   "source": [
    "def pooling(feature_map, size=2, stride=2):\n",
    "    #Preparing the output of pooling operation.\n",
    "    pool_out = numpy.zeros((numpy.uint16((feature_map.shape[0]\n",
    "                                         -size+1)/stride),\n",
    "                           numpy.uint16((feature_map.shape[1]\n",
    "                                        -size+1)/stride),\n",
    "                           feature_map.shape[-1]))\n",
    "    for map_num in range(feature_map.shape[-1]):\n",
    "        r2 = 0\n",
    "        for r in numpy.arange(0, feature_map.shape[0]-size-1,\n",
    "                             stride):\n",
    "            c2 = 0\n",
    "            for c in numpy.arange(0, feature_map.shape[1]\n",
    "                                 -size-1, stride):\n",
    "                pool_out[r2, c2, map_num] = numpy.max(\n",
    "                    feature_map[r:r+size, c:c+size])\n",
    "                c2 = c2 + 1\n",
    "            r2 = r2 + 1\n",
    "    return pool_out"
   ]
  },
  {
   "cell_type": "code",
   "execution_count": 16,
   "metadata": {},
   "outputs": [],
   "source": [
    "l1_feature_map_relu_pool = pooling(l1_feature_map_relu, \n",
    "                                   2, 2)"
   ]
  },
  {
   "cell_type": "code",
   "execution_count": 17,
   "metadata": {},
   "outputs": [
    {
     "name": "stdout",
     "output_type": "stream",
     "text": [
      "\n",
      "**Working with conv layer 2**\n",
      "Filter  1\n",
      "Filter  2\n",
      "Filter  3\n",
      "\n",
      "**ReLU**\n",
      "\n",
      "**Pooling**\n",
      "**End of conv layer 2**\n",
      "\n"
     ]
    }
   ],
   "source": [
    "# Second conv layer\n",
    "l2_filter = numpy.random.rand(3, 5, 5, \n",
    "                         l1_feature_map_relu_pool.shape[-1])\n",
    "print(\"\\n**Working with conv layer 2**\")\n",
    "l2_feature_map = conv(l1_feature_map_relu_pool, l2_filter)\n",
    "print(\"\\n**ReLU**\")\n",
    "l2_feature_map_relu = relu(l2_feature_map)\n",
    "print(\"\\n**Pooling**\")\n",
    "l2_feature_map_relu_pool = pooling(l2_feature_map_relu)\n",
    "print(\"**End of conv layer 2**\\n\")"
   ]
  },
  {
   "cell_type": "code",
   "execution_count": 18,
   "metadata": {},
   "outputs": [
    {
     "name": "stdout",
     "output_type": "stream",
     "text": [
      "\n",
      "**Working with conv layer 3**\n",
      "Filter  1\n",
      "\n",
      "**ReLU**\n",
      "\n",
      "**Pooling**\n",
      "**End of conv layer 3**\n",
      "\n"
     ]
    }
   ],
   "source": [
    "#Third conv layer\n",
    "l3_filter = numpy.random.rand(1, 7, 7, \n",
    "                              l2_feature_map_relu_pool.\n",
    "                              shape[-1])\n",
    "print(\"\\n**Working with conv layer 3**\")\n",
    "l3_feature_map = conv(l2_feature_map_relu_pool, l3_filter)\n",
    "print(\"\\n**ReLU**\")\n",
    "l3_feature_map_relu = relu(l3_feature_map)\n",
    "print(\"\\n**Pooling**\")\n",
    "l3_feature_map_relu_pool = pooling(l3_feature_map_relu)\n",
    "print(\"**End of conv layer 3**\\n\")"
   ]
  },
  {
   "cell_type": "code",
   "execution_count": null,
   "metadata": {},
   "outputs": [],
   "source": []
  }
 ],
 "metadata": {
  "kernelspec": {
   "display_name": "Python 3",
   "language": "python",
   "name": "python3"
  },
  "language_info": {
   "codemirror_mode": {
    "name": "ipython",
    "version": 3
   },
   "file_extension": ".py",
   "mimetype": "text/x-python",
   "name": "python",
   "nbconvert_exporter": "python",
   "pygments_lexer": "ipython3",
   "version": "3.7.6"
  }
 },
 "nbformat": 4,
 "nbformat_minor": 4
}
