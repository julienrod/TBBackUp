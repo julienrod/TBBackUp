{
 "cells": [
  {
   "cell_type": "code",
   "execution_count": null,
   "metadata": {
    "scrolled": true
   },
   "outputs": [],
   "source": [
    "import rasterio\n",
    "import affine\n",
    "from rasterio import plot\n",
    "import matplotlib.pyplot as plt\n",
    "import shapefile\n",
    "from pyproj import CRS, transform, Transformer\n",
    "import os\n",
    "%matplotlib inline"
   ]
  },
  {
   "cell_type": "code",
   "execution_count": null,
   "metadata": {},
   "outputs": [],
   "source": [
    "IMAGE_PIXEL = 15\n",
    "IMAGE_WIDTH = 732\n",
    "LIST_SHAPEFILES = [\"heigvd/central_highlands_2_other/central_highlands_2_other.shp\",\n",
    "                  \"heigvd/central_highlands_2_test/central_highlands_2_test.shp\",\n",
    "                  \"heigvd/central_higlands_1_other/central_higlands_1_other.shp\"]\n",
    "CORRESPONDANCES = {\"1\":\"cacao\", \"2\":\"coffee\",\"3\":\"complex_oil\", \"4\":\"nativevege\", \"5\":\"oil_palm\", \"6\":\"rubber\", \"7\":\"unknown\", \n",
    "                 \"8\":\"seasonal\", \"9\":\"urban\", \"10\":\"water\", \"11\":\"other_tree\", \"12\":\"other_no_tree\", \"13\":\"native_no_tree\",\n",
    "                 \"14\":\"water_other\", \"15\":\"pepper\", \"16\":\"cassava\", \"17\":\"tea\", \"18\":\"rice\", \"19\":\"banana\", \"20\":\"baby_palm\", \n",
    "                 \"21\":\"cur_off-regrow\", \"22\":\"natural_wetland\", \"23\":\"intercrop\", \"24\":\"deciduous_forest\", \"25\":\"stick_pepper\", \n",
    "                 \"26\":\"flooded_plantation\", \"27\":\"pine_trees\", \"28\":\"coconut\", \"29\":\"banboo\", \"30\":\"savana\", \"31\":\"mango\", \n",
    "                 \"32\":\"other_fruit_tree_crop\", \"33\":\"water_mine\", \"0\":\"not_labeled\", \"-1\":\"ambiguous\"}\n",
    "SHAPEFILE_ESPG = 4326"
   ]
  },
  {
   "cell_type": "code",
   "execution_count": null,
   "metadata": {},
   "outputs": [],
   "source": [
    "points = []\n",
    "for path in LIST_SHAPEFILES:\n",
    "    sf = shapefile.Reader(path)\n",
    "    shapes = sf.shapes()\n",
    "    for point in sf.records():\n",
    "        points.append((shapes[point.oid].points[0], point[0]))\n",
    "        \n",
    "def get_labels(begin, end):\n",
    "    \"\"\"Donne tous les labels contenu entre 2 positions géographiques\"\"\"\n",
    "    labels = set()\n",
    "    long1, lat1 = convert_to_format(begin)\n",
    "    long2, lat2 = convert_to_format(end)\n",
    "    for point in points:\n",
    "        if long1 <= point[0][0] <= long2 and lat2 <= point[0][1] <= lat1:\n",
    "            labels.add(point[1])\n",
    "    return labels"
   ]
  },
  {
   "cell_type": "code",
   "execution_count": null,
   "metadata": {
    "scrolled": true
   },
   "outputs": [],
   "source": [
    "bands = ['gauche/fall/T48PYU_20191025T030811_B08_10m.jp2',\n",
    "        'gauche/fall/T48PYU_20191025T030811_B04_10m.jp2',\n",
    "        'gauche/fall/T48PYU_20191025T030811_B03_10m.jp2',\n",
    "        'gauche/fall/T48PYU_20191025T030811_B02_10m.jp2',\n",
    "        'gauche/winter/T48PYU_20191224T031131_B08_10m.jp2',\n",
    "        'gauche/winter/T48PYU_20191224T031131_B04_10m.jp2',\n",
    "        'gauche/winter/T48PYU_20191224T031131_B03_10m.jp2',\n",
    "        'gauche/winter/T48PYU_20191224T031131_B02_10m.jp2',\n",
    "        'gauche/spring/T48PYU_20200318T030539_B08_10m.jp2',\n",
    "        'gauche/spring/T48PYU_20200318T030539_B04_10m.jp2',\n",
    "        'gauche/spring/T48PYU_20200318T030539_B03_10m.jp2',\n",
    "        'gauche/spring/T48PYU_20200318T030539_B02_10m.jp2'\n",
    "        ]"
   ]
  },
  {
   "cell_type": "code",
   "execution_count": null,
   "metadata": {},
   "outputs": [],
   "source": [
    "transformer = Transformer.from_crs(rasterio.open(bands[0], driver='JP2OpenJPEG').gcps[1], SHAPEFILE_ESPG)\n",
    "print(rasterio.open(bands[0], driver='JP2OpenJPEG').gcps[1])\n",
    "def convert_to_format(coords):\n",
    "    \"\"\"Sert à convertir le format de géolocalisation de l'image pour matcher avec celui des points des shapefiles\"\"\"\n",
    "    conversion = transformer.transform(coords[0], coords[1])\n",
    "    return (conversion[1], conversion[0])"
   ]
  },
  {
   "cell_type": "code",
   "execution_count": null,
   "metadata": {},
   "outputs": [],
   "source": [
    "def split_band(band, width, image_length):\n",
    "    \"\"\"Split une bande de Sentinel-2 en bande plus petite\n",
    "    IMAGE_WIDTH^2 images de IMAGE_PIXELxIMAGE_PIXEL\"\"\"\n",
    "    result = []\n",
    "    my_band = band.read(1)\n",
    "    for x in range(width):\n",
    "        columns = []\n",
    "        for y in range(width):\n",
    "            lines = []\n",
    "            for i in range(image_length):\n",
    "                cells = []\n",
    "                for j in range(image_length):\n",
    "                    cells.append(my_band[i + IMAGE_PIXEL * x][j + IMAGE_PIXEL * y])\n",
    "                lines.append(cells)\n",
    "            columns.append(lines)\n",
    "        result.append(columns)\n",
    "    return result"
   ]
  },
  {
   "cell_type": "code",
   "execution_count": null,
   "metadata": {},
   "outputs": [],
   "source": [
    "def create_smaller_images(bands, path_name, file_name):\n",
    "    \"\"\"Créée des images plus petites pouvant être mieux traitées par le réseau de neurones et les classes dans le bon dossier\n",
    "    selon s'il existe des positions déjà labelée dans le dossier (ambigious si plusieurs, not_labeled si pas de coordonnées)\"\"\"\n",
    "    images = []\n",
    "    width = None\n",
    "    height = None\n",
    "    crs = None\n",
    "    transformFix = None\n",
    "    dtype = None\n",
    "    for band in bands:\n",
    "        image = rasterio.open(band, driver='JP2OpenJPEG')\n",
    "        images.append(split_band(image, IMAGE_WIDTH, IMAGE_PIXEL))\n",
    "        if width == None:\n",
    "            width = image.width\n",
    "            height = image.height\n",
    "            crs = image.crs\n",
    "            transformFix = image.transform\n",
    "            dtype = image.dtypes[0]\n",
    "        image.close()\n",
    "        print(\"Fin\", band)\n",
    "    if not os.path.isdir(path_name):\n",
    "        os.mkdir(path_name)\n",
    "    for _, directory in CORRESPONDANCES.items():\n",
    "        if not os.path.isdir(path_name + \"/\" + directory):\n",
    "            os.mkdir(path_name + \"/\" + directory)\n",
    "    for x in range(IMAGE_WIDTH):\n",
    "        for y in range(IMAGE_WIDTH):\n",
    "            begin = transformFix * (y * IMAGE_PIXEL,x * IMAGE_PIXEL)\n",
    "            end = transformFix * ((y + 1) * IMAGE_PIXEL,(x + 1) * IMAGE_PIXEL)  \n",
    "            transform = affine.Affine(10.0, 0, begin[0], 0.0, -10.0, begin[1])\n",
    "            #Trie selon s'il y a des points déjà répertorié dans le fichier.\n",
    "            labels = get_labels(begin, end)\n",
    "            image_name = path_name + \"/\"\n",
    "            if len(labels) == 0:\n",
    "                if not os.path.exists(path_name + \"/\" + CORRESPONDANCES['0'] + \"/\" + str(x)):\n",
    "                    os.mkdir(path_name + \"/\" + CORRESPONDANCES['0'] + \"/\" + str(x))\n",
    "                image_name += CORRESPONDANCES['0'] + \"/\" + str(x) + \"/\"\n",
    "            elif len(labels) > 1:\n",
    "                image_name += CORRESPONDANCES['-1'] + \"/\"\n",
    "            else:\n",
    "                image_name += CORRESPONDANCES[str(next(iter(labels)))] + \"/\"\n",
    "            image_name += file_name\n",
    "            smaller_image = rasterio.open(image_name + '_' + str(x) + '_' + str(y) \\\n",
    "                                              + '.tiff', 'w', driver='Gtiff', \n",
    "                          width=IMAGE_PIXEL, height=IMAGE_PIXEL, count=12, crs=crs, \n",
    "                          transform=transform, \n",
    "                          dtype=dtype\n",
    "                         )\n",
    "            cpt = 1\n",
    "            for image in images:\n",
    "                smaller_image.write(image[x][y], cpt)\n",
    "                cpt += 1\n",
    "            smaller_image.close()\n",
    "        print(str(x) + \"/\" + str(IMAGE_WIDTH))\n",
    "    print(\"Fichiers tiff créés.\")"
   ]
  },
  {
   "cell_type": "code",
   "execution_count": null,
   "metadata": {
    "scrolled": false
   },
   "outputs": [],
   "source": [
    "create_smaller_images(bands, \"output/final_test\", \"final_test\")"
   ]
  },
  {
   "cell_type": "code",
   "execution_count": null,
   "metadata": {},
   "outputs": [],
   "source": []
  }
 ],
 "metadata": {
  "kernelspec": {
   "display_name": "Python 3",
   "language": "python",
   "name": "python3"
  },
  "language_info": {
   "codemirror_mode": {
    "name": "ipython",
    "version": 3
   },
   "file_extension": ".py",
   "mimetype": "text/x-python",
   "name": "python",
   "nbconvert_exporter": "python",
   "pygments_lexer": "ipython3",
   "version": "3.7.7"
  }
 },
 "nbformat": 4,
 "nbformat_minor": 4
}
