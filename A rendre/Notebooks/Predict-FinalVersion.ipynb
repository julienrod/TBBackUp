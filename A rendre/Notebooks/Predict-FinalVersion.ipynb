{
 "cells": [
  {
   "cell_type": "markdown",
   "metadata": {},
   "source": [
    "## Importer le modèle"
   ]
  },
  {
   "cell_type": "code",
   "execution_count": null,
   "metadata": {},
   "outputs": [],
   "source": [
    "from keras.models import load_model\n",
    "import numpy as np\n",
    "import os\n",
    "model = load_model('GoodModel/model1cAll.h5')\n",
    "# summarize model.\n",
    "model.summary()"
   ]
  },
  {
   "cell_type": "markdown",
   "metadata": {},
   "source": [
    "## Importer l'image"
   ]
  },
  {
   "cell_type": "code",
   "execution_count": null,
   "metadata": {},
   "outputs": [],
   "source": [
    "import rasterio\n",
    "#Mettre les chemins d'accès aux bandes utilisées par l'entrainement du\n",
    "#modèle utilisé dans le bon ordre dans le tableau ci-dessous.\n",
    "bands = ['gauche1c/Fall/T48PYU_20191025T030811_B08.jp2',\n",
    "        'gauche1c/Fall/T48PYU_20191025T030811_B04.jp2',\n",
    "        'gauche1c/Fall/T48PYU_20191025T030811_B03.jp2',\n",
    "        'gauche1c/Fall/T48PYU_20191025T030811_B02.jp2',\n",
    "        'gauche1c/Winter/T48PYU_20191224T031131_B08.jp2',\n",
    "        'gauche1c/Winter/T48PYU_20191224T031131_B04.jp2',\n",
    "        'gauche1c/Winter/T48PYU_20191224T031131_B03.jp2',\n",
    "        'gauche1c/Winter/T48PYU_20191224T031131_B02.jp2',\n",
    "        'gauche1c/Spring/T48PYU_20200313T030541_B08.jp2',\n",
    "        'gauche1c/Spring/T48PYU_20200313T030541_B04.jp2',\n",
    "        'gauche1c/Spring/T48PYU_20200313T030541_B03.jp2',\n",
    "        'gauche1c/Spring/T48PYU_20200313T030541_B02.jp2']"
   ]
  },
  {
   "cell_type": "code",
   "execution_count": null,
   "metadata": {},
   "outputs": [],
   "source": [
    "IMAGE_PIXEL = 15\n",
    "IMAGE_WIDTH = 732\n",
    "BAND_WIDTH = len(bands)"
   ]
  },
  {
   "cell_type": "code",
   "execution_count": null,
   "metadata": {},
   "outputs": [],
   "source": [
    "def reshape(image, width):\n",
    "    \"\"\"Transforme une image raster pour pouvoir être utilisable par le réseau de neurones\"\"\"\n",
    "    reshaped_image = []\n",
    "    for i in range(len(image[0])):\n",
    "        reshaped_row = []\n",
    "        for j in range(len(image[0][0])):\n",
    "            reshaped_cell = []\n",
    "            for k in range(width):\n",
    "                reshaped_cell.append(image[k][i][j] / 65535)\n",
    "            reshaped_row.append(reshaped_cell)\n",
    "        reshaped_image.append(reshaped_row)\n",
    "    return reshaped_image"
   ]
  },
  {
   "cell_type": "code",
   "execution_count": null,
   "metadata": {},
   "outputs": [],
   "source": [
    "def split_band(band, width, pixel_length):\n",
    "    \"\"\"Split une bande de Sentinel-2 en bande plus petites images\"\"\"\n",
    "    result = []\n",
    "    my_band = band.read(1)\n",
    "    for x in range(width):\n",
    "        columns = []\n",
    "        for y in range(width):\n",
    "            lines = []\n",
    "            for i in range(pixel_length):\n",
    "                cells = []\n",
    "                for j in range(pixel_length):\n",
    "                    cells.append(my_band[i + IMAGE_PIXEL * x][j + IMAGE_PIXEL * y])\n",
    "                lines.append(cells)\n",
    "            columns.append(lines)\n",
    "        result.append(columns)\n",
    "    return result"
   ]
  },
  {
   "cell_type": "markdown",
   "metadata": {},
   "source": [
    "## Faire la prédiction"
   ]
  },
  {
   "cell_type": "code",
   "execution_count": null,
   "metadata": {},
   "outputs": [],
   "source": [
    "def predict(bands, model, output_path=\"output\", output_name=\"prédiction\"):\n",
    "    \"\"\"Créée l'image de sortie en noir et blanc\"\"\"\n",
    "    images = []\n",
    "    width = None\n",
    "    height = None\n",
    "    crs = None\n",
    "    transform = None\n",
    "    dtype = None\n",
    "    for band in bands:\n",
    "        image = rasterio.open(band, driver='JP2OpenJPEG')\n",
    "        images.append(split_band(image, IMAGE_WIDTH, IMAGE_PIXEL))\n",
    "        if width == None:\n",
    "            width = image.width\n",
    "            height = image.height\n",
    "            crs = image.crs\n",
    "            transform = image.transform\n",
    "            dtype = image.dtypes[0]\n",
    "        image.close()\n",
    "        print(\"Fin\", band)\n",
    "    prediction = []\n",
    "    for x in range(IMAGE_WIDTH):\n",
    "        row_prediction = []\n",
    "        for y in range(IMAGE_WIDTH):\n",
    "            smaller_image = []\n",
    "            for image in images:\n",
    "                smaller_image.append(image[x][y])\n",
    "            value = model.predict(np.expand_dims(reshape(smaller_image, BAND_WIDTH), axis=0))\n",
    "            for i in range(IMAGE_PIXEL):\n",
    "                row_prediction.append(value[0][0] * 65535)\n",
    "                \n",
    "        for i in range(IMAGE_PIXEL):\n",
    "            prediction.append(np.array(row_prediction).astype('uint16'))\n",
    "    if not os.path.isdir(output_path):\n",
    "        os.mkdir(output_path)\n",
    "    output = rasterio.open(output_path + '/' + output_name + '.tiff', 'w', driver='Gtiff', \n",
    "                          width=width, height=height, count=1, crs=crs, \n",
    "                          transform=transform, \n",
    "                          dtype=dtype)\n",
    "    output.write(prediction, 1)\n",
    "    output.close()\n",
    "    print(\"Le fichier de prédiction a été créé.\")"
   ]
  },
  {
   "cell_type": "code",
   "execution_count": null,
   "metadata": {
    "scrolled": false
   },
   "outputs": [],
   "source": [
    "predict(bands, model=model, output_path=\"output\", output_name=\"1cAll\")"
   ]
  },
  {
   "cell_type": "code",
   "execution_count": null,
   "metadata": {},
   "outputs": [],
   "source": []
  }
 ],
 "metadata": {
  "kernelspec": {
   "display_name": "Python 3",
   "language": "python",
   "name": "python3"
  },
  "language_info": {
   "codemirror_mode": {
    "name": "ipython",
    "version": 3
   },
   "file_extension": ".py",
   "mimetype": "text/x-python",
   "name": "python",
   "nbconvert_exporter": "python",
   "pygments_lexer": "ipython3",
   "version": "3.7.7"
  }
 },
 "nbformat": 4,
 "nbformat_minor": 4
}
