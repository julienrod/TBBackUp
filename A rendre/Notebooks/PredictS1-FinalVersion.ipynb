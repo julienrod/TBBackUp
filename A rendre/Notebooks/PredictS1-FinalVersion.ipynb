{
 "cells": [
  {
   "cell_type": "markdown",
   "metadata": {},
   "source": [
    "## Importer le modèle"
   ]
  },
  {
   "cell_type": "code",
   "execution_count": null,
   "metadata": {},
   "outputs": [],
   "source": [
    "from keras.models import load_model\n",
    "import numpy as np\n",
    "import os\n",
    "model = load_model('GoodModel/models1.h5')\n",
    "# summarize model.\n",
    "model.summary()"
   ]
  },
  {
   "cell_type": "markdown",
   "metadata": {},
   "source": [
    "## Importer l'image"
   ]
  },
  {
   "cell_type": "code",
   "execution_count": null,
   "metadata": {},
   "outputs": [],
   "source": [
    "import rasterio\n",
    "#Mettre les chemins d'accès aux bandes utilisées par l'entrainement du\n",
    "#modèle utilisé dans le bon ordre dans le tableau ci-dessous.\n",
    "bandsvv = ['S1Fall/fa_vv.tiff',\n",
    "          'S1Winter/wi_vv.tiff',\n",
    "          'S1Spring/sp_vv.tiff',\n",
    "          'S1Summer/su_vv.tiff']\n",
    "bandsvh = ['S1Fall/fa_vh.tiff',\n",
    "          'S1Winter/wi_vh.tiff',\n",
    "          'S1Spring/sp_vh.tiff',\n",
    "          'S1Summer/su_vh.tiff']"
   ]
  },
  {
   "cell_type": "code",
   "execution_count": null,
   "metadata": {},
   "outputs": [],
   "source": [
    "IMAGE_PIXEL = 30\n",
    "IMAGE_WIDTH = 838\n",
    "IMAGE_HEIGHT = 560\n",
    "BAND_WIDTH = 8"
   ]
  },
  {
   "cell_type": "code",
   "execution_count": null,
   "metadata": {},
   "outputs": [],
   "source": [
    "def reshape(image, width):\n",
    "    \"\"\"Transforme une image raster pour pouvoir être utilisable par le réseau de neurones\"\"\"\n",
    "    reshaped_image = []\n",
    "    for i in range(len(image[0])):\n",
    "        reshaped_row = []\n",
    "        for j in range(len(image[0][0])):\n",
    "            reshaped_cell = []\n",
    "            for k in range(width):\n",
    "                reshaped_cell.append(image[k][i][j] / 65535)\n",
    "            reshaped_row.append(reshaped_cell)\n",
    "        reshaped_image.append(reshaped_row)\n",
    "    return reshaped_image"
   ]
  },
  {
   "cell_type": "code",
   "execution_count": null,
   "metadata": {},
   "outputs": [],
   "source": [
    "def split_band(band, width, height, pixel_length):\n",
    "    \"\"\"Split une bande de Sentinel-1 en bande de plus petites images\"\"\"\n",
    "    result = []\n",
    "    for x in range(height):\n",
    "        columns = []\n",
    "        for y in range(width):\n",
    "            lines = []\n",
    "            for i in range(pixel_length):\n",
    "                cells = []\n",
    "                for j in range(pixel_length):\n",
    "                    if (i + IMAGE_PIXEL * x) < len(band) and  (j + IMAGE_PIXEL * y) < len(band[0]):\n",
    "                        cells.append(band[i + IMAGE_PIXEL * x][j + IMAGE_PIXEL * y])\n",
    "                    else:\n",
    "                        cells.append(0)\n",
    "                lines.append(cells)\n",
    "            columns.append(lines)\n",
    "        result.append(columns)\n",
    "    return result"
   ]
  },
  {
   "cell_type": "code",
   "execution_count": null,
   "metadata": {},
   "outputs": [],
   "source": [
    "def get_vectors(gcp_top_right, gcp_top_left, gcp_bottom_right, gcp_bottom_left):\n",
    "    \"\"\"Forme les vecteurs moyens entre 4 coordonnées GroundControlPoint\"\"\"\n",
    "    norm_v1 = (gcp_top_left.col - gcp_top_right.col)\n",
    "    v1 = np.array([(gcp_top_left.x - gcp_top_right.x + gcp_bottom_left.x - gcp_bottom_right.x) / (2 * norm_v1),\n",
    "         (gcp_top_left.y - gcp_top_right.y + gcp_bottom_left.y - gcp_bottom_right.y) / (2 * norm_v1)])\n",
    "    norm_v2 = (gcp_bottom_right.row - gcp_top_right.row)\n",
    "    v2 = np.array([(gcp_bottom_right.x - gcp_top_right.x + gcp_bottom_left.x - gcp_top_left.x) / (2 * norm_v2),\n",
    "         (gcp_bottom_right.y - gcp_top_right.y + gcp_bottom_left.y - gcp_top_left.y ) / (2 * norm_v2)])\n",
    "    return v1, v2"
   ]
  },
  {
   "cell_type": "code",
   "execution_count": null,
   "metadata": {},
   "outputs": [],
   "source": [
    "from sympy import symbols, Eq, solve\n",
    "def get_offset(gcps, x_min, y_min):\n",
    "    \"\"\"Retourne déplacements à effectuer pour avoir la position d'une coordonnée particulière (environ)\"\"\"\n",
    "    gcp_top_right, gcp_top_left, gcp_bottom_right, gcp_bottom_left = None, None, None, None\n",
    "    for gcp in gcps:\n",
    "        if gcp.row == 0.0 and gcp.col == 0.0:\n",
    "            gcp_top_right = gcp\n",
    "        elif gcp.row == 0.0 and gcp_top_left == None:\n",
    "            gcp_top_left = gcp\n",
    "        elif gcp.col <= 0.0 and gcp_bottom_right == None:\n",
    "            gcp_bottom_right = gcp\n",
    "        elif gcp_bottom_right != None:\n",
    "            gcp_bottom_left = gcp\n",
    "            break\n",
    "    v1, v2 = get_vectors(gcp_top_right, gcp_top_left, gcp_bottom_right, gcp_bottom_left)\n",
    "    origin = np.array([gcp_top_right.x, gcp_top_right.y])\n",
    "    u1, u2 = symbols('u1 u2')\n",
    "    eq1 = Eq(gcp_top_right.x - u1*v1[0] - u2*v2[0] - x_min, 0)\n",
    "    eq2 = Eq(gcp_top_right.y - u1*v1[1] - u2*v2[1] - y_min, 0)\n",
    "    sol = solve((eq1, eq2),(u1, u2))\n",
    "\n",
    "    return round(sol[u1]), round(sol[u2])"
   ]
  },
  {
   "cell_type": "code",
   "execution_count": null,
   "metadata": {},
   "outputs": [],
   "source": [
    "def translate_image(image, offset_x, offset_y):\n",
    "    \"\"\"Fait correspondre la position [0][0] de notre image à la position [offset_y][offset_x], toutes positions en dehors de\n",
    "    l'image de base seront mises à 0.\"\"\"\n",
    "    result = []\n",
    "    for i in range(len(image)):\n",
    "        if 0 <= (i + offset_y) < len(image):\n",
    "            result_row = []\n",
    "            for j in range(len(image[0])):\n",
    "                if 0 <= (j + offset_x) < len(image[0]):\n",
    "                    result_row.append(image[i + offset_y][j + offset_x])\n",
    "                else:\n",
    "                    result_row.append(0)\n",
    "            result.append(result_row)\n",
    "        else:\n",
    "            result.append([0 for i in range(len(image[0]))])\n",
    "    return np.array(result, dtype=np.uint16)"
   ]
  },
  {
   "cell_type": "code",
   "execution_count": null,
   "metadata": {},
   "outputs": [],
   "source": [
    "from osgeo import gdal\n",
    "def create_gcps(list_gcps):\n",
    "    \"\"\"Fait une approximation des gcps en moyennant les gcps de toutes les bandes de saisons (prend comme point de départ le\n",
    "    plus petit x et le plus petit y trouvé)\"\"\"\n",
    "    firsts_x = []\n",
    "    firsts_y = []\n",
    "    for band in list_gcps:\n",
    "        firsts_x.append(band[0].x)\n",
    "        firsts_y.append(band[0].y)\n",
    "    x_min = min(firsts_x)\n",
    "    y_min = min(firsts_y)\n",
    "    gcps = [rasterio.control.GroundControlPoint(row=0.0, col=0.0, x=x_min, y=y_min, id='1')]\n",
    "    for i in range(1, len(list_gcps[0])):\n",
    "        previous_x_average = 0\n",
    "        previous_y_average = 0\n",
    "        actual_x_average = 0\n",
    "        actual_y_average = 0\n",
    "        for band in list_gcps:\n",
    "            previous_x_average += band[i-1].x\n",
    "            previous_y_average += band[i-1].y\n",
    "            actual_x_average += band[i].x\n",
    "            actual_y_average += band[i].y\n",
    "        x = gcps[i-1].x + (actual_x_average - previous_x_average) / len(list_gcps)\n",
    "        y = gcps[i-1].y + (actual_y_average - previous_y_average) / len(list_gcps)  \n",
    "        gcps.append(rasterio.control.GroundControlPoint(row=list_gcps[0][i].row, col=list_gcps[0][i].col,\n",
    "                                                        x=x, y=y, id=str(i+1)))\n",
    "    return gcps"
   ]
  },
  {
   "cell_type": "code",
   "execution_count": null,
   "metadata": {},
   "outputs": [],
   "source": [
    "def make_blue(vv, vh):\n",
    "    #Sources https://stackoverflow.com/questions/3950372/round-with-integer-division\n",
    "    return (vv + vh // 2) // vh "
   ]
  },
  {
   "cell_type": "markdown",
   "metadata": {},
   "source": [
    "## Faire la prédiction"
   ]
  },
  {
   "cell_type": "code",
   "execution_count": null,
   "metadata": {},
   "outputs": [],
   "source": [
    "def predict(bandsvv, bandsvh, model, output_path=\"output\", output_name=\"prédiction\", make_blue=False):\n",
    "    \"\"\"Créée l'image de sortie en noir et blanc\"\"\"\n",
    "    print(\"Has started\")\n",
    "    images = []\n",
    "    width = None\n",
    "    height = None\n",
    "    crs = None\n",
    "    transform = None\n",
    "    dtype = None\n",
    "    gcps = None\n",
    "    for i in range(len(bandsvv)):\n",
    "        imagevv = rasterio.open(bandsvv[i])\n",
    "        if width == None:\n",
    "            width = imagevv.width\n",
    "            height = imagevv.height\n",
    "            transform = imagevv.transform\n",
    "            dtype = imagevv.dtypes[0]\n",
    "            gcps, crs = imagevv.gcps\n",
    "        images.append(split_band(imagevv.read(1), IMAGE_WIDTH, IMAGE_HEIGHT, IMAGE_PIXEL))\n",
    "        imagevh = rasterio.open(bandsvh[i])        \n",
    "        images.append(split_band(imagevh.read(1), IMAGE_WIDTH, IMAGE_HEIGHT, IMAGE_PIXEL))\n",
    "        if make_blue:\n",
    "            images.append(split_band(make_blue(imagevv.read(1), imagevh.read(1))))\n",
    "        print(\"Fin\", bandsvv[i], \"et\", bandsvh[i])        \n",
    "    prediction = []\n",
    "    prediction_len = set()\n",
    "    for x in range(IMAGE_HEIGHT):\n",
    "        print(x + 1, \"/\", IMAGE_HEIGHT)\n",
    "        row_prediction = []\n",
    "        for y in range(IMAGE_WIDTH):\n",
    "            smaller_image = []\n",
    "            for image in images:\n",
    "                smaller_image.append(image[x][y])\n",
    "            value = model.predict(np.expand_dims(reshape(smaller_image, BAND_WIDTH), axis=0))\n",
    "            prediction_len.add(value[0][0] * 65535)\n",
    "            for i in range(IMAGE_PIXEL):\n",
    "                row_prediction.append(value[0][0] * 65535)\n",
    "                \n",
    "        for i in range(IMAGE_PIXEL):\n",
    "            prediction.append(np.array(row_prediction).astype('uint16'))\n",
    "    if not os.path.isdir(output_path):\n",
    "        os.mkdir(output_path)\n",
    "    output = rasterio.open(output_path + '/' + output_name + '.tiff', 'w', driver='Gtiff', \n",
    "                          width=width, height=height, count=1, crs=crs, gcps=gcps,\n",
    "                          transform=transform, \n",
    "                          dtype=dtype)\n",
    "    output.write(prediction, 1)\n",
    "    output.close()\n",
    "    print(\"Le fichier de prédiction a été créé.\")"
   ]
  },
  {
   "cell_type": "code",
   "execution_count": null,
   "metadata": {
    "scrolled": true
   },
   "outputs": [],
   "source": [
    "predict(bandsvv, bandsvh, model=model, output_path=\"output\", output_name=\"prédictionS1AllSeasons\")"
   ]
  },
  {
   "cell_type": "code",
   "execution_count": null,
   "metadata": {},
   "outputs": [],
   "source": []
  }
 ],
 "metadata": {
  "kernelspec": {
   "display_name": "Python 3",
   "language": "python",
   "name": "python3"
  },
  "language_info": {
   "codemirror_mode": {
    "name": "ipython",
    "version": 3
   },
   "file_extension": ".py",
   "mimetype": "text/x-python",
   "name": "python",
   "nbconvert_exporter": "python",
   "pygments_lexer": "ipython3",
   "version": "3.7.7"
  }
 },
 "nbformat": 4,
 "nbformat_minor": 4
}
