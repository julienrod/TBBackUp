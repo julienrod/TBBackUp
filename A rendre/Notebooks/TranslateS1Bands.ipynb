{
 "cells": [
  {
   "cell_type": "code",
   "execution_count": null,
   "metadata": {},
   "outputs": [],
   "source": [
    "import rasterio\n",
    "import numpy as np\n",
    "from math import sqrt"
   ]
  },
  {
   "cell_type": "code",
   "execution_count": null,
   "metadata": {},
   "outputs": [],
   "source": [
    "bands = [\"../Données/S1Fall/measurement/s1a-iw-grd-vv-20191011t223652-20191011t223717-029417-035883-001.tiff\",\n",
    "        \"../Données/S1Spring/measurement/s1a-iw-grd-vh-20200408t223649-20200408t223714-032042-03b3ce-002.tiff\",\n",
    "        \"../Données/S1Winter/measurement/s1a-iw-grd-vv-20200115t223649-20200115t223714-030817-038911-001.tiff\",\n",
    "        \"../Données/S1Summer/measurement/s1a-iw-grd-vv-20200713t223654-20200713t223719-033442-03e00d-001.tiff\"]"
   ]
  },
  {
   "cell_type": "code",
   "execution_count": null,
   "metadata": {},
   "outputs": [],
   "source": [
    "def get_vectors(gcp_top_right, gcp_top_left, gcp_bottom_right, gcp_bottom_left):\n",
    "    \"\"\"Forme les vecteurs moyens entre 4 coordonnées GroundControlPoint\"\"\"\n",
    "    norm_v1 = (gcp_top_left.col - gcp_top_right.col)\n",
    "    v1 = np.array([(gcp_top_left.x - gcp_top_right.x + gcp_bottom_left.x - gcp_bottom_right.x) / (2 * norm_v1),\n",
    "         (gcp_top_left.y - gcp_top_right.y + gcp_bottom_left.y - gcp_bottom_right.y) / (2 * norm_v1)])\n",
    "    norm_v2 = (gcp_bottom_right.row - gcp_top_right.row)\n",
    "    v2 = np.array([(gcp_bottom_right.x - gcp_top_right.x + gcp_bottom_left.x - gcp_top_left.x) / (2 * norm_v2),\n",
    "         (gcp_bottom_right.y - gcp_top_right.y + gcp_bottom_left.y - gcp_top_left.y ) / (2 * norm_v2)])\n",
    "    return v1, v2"
   ]
  },
  {
   "cell_type": "code",
   "execution_count": null,
   "metadata": {},
   "outputs": [],
   "source": [
    "from osgeo import gdal\n",
    "def create_gcps(list_gcps):\n",
    "    \"\"\"Fait une approximation des gcps en moyennant les gcps de toutes les bandes de saisons (prend comme point de départ le\n",
    "    plus petit x et le plus petit y trouvé)\"\"\"\n",
    "    firsts_x = []\n",
    "    firsts_y = []\n",
    "    for band in list_gcps:\n",
    "        firsts_x.append(band[0].x)\n",
    "        firsts_y.append(band[0].y)\n",
    "    x_min = min(firsts_x)\n",
    "    y_min = min(firsts_y)\n",
    "    gcps = [rasterio.control.GroundControlPoint(row=0.0, col=0.0, x=x_min, y=y_min, id='1')]\n",
    "    for i in range(1, len(list_gcps[0])):\n",
    "        previous_x_average = 0\n",
    "        previous_y_average = 0\n",
    "        actual_x_average = 0\n",
    "        actual_y_average = 0\n",
    "        for band in list_gcps:\n",
    "            previous_x_average += band[i-1].x\n",
    "            previous_y_average += band[i-1].y\n",
    "            actual_x_average += band[i].x\n",
    "            actual_y_average += band[i].y\n",
    "        x = gcps[i-1].x + (actual_x_average - previous_x_average) / len(list_gcps)\n",
    "        y = gcps[i-1].y + (actual_y_average - previous_y_average) / len(list_gcps)  \n",
    "        gcps.append(rasterio.control.GroundControlPoint(row=list_gcps[0][i].row, col=list_gcps[0][i].col,\n",
    "                                                        x=x, y=y, id=str(i+1)))\n",
    "    return gcps"
   ]
  },
  {
   "cell_type": "code",
   "execution_count": null,
   "metadata": {},
   "outputs": [],
   "source": [
    "from sympy import symbols, Eq, solve\n",
    "def get_offset(gcps, x_min, y_min):\n",
    "    gcp_top_right, gcp_top_left, gcp_bottom_right, gcp_bottom_left = None, None, None, None\n",
    "    for gcp in gcps:\n",
    "        if gcp.row == 0.0 and gcp.col == 0.0:\n",
    "            gcp_top_right = gcp\n",
    "        elif gcp.row == 0.0 and gcp_top_left == None:\n",
    "            gcp_top_left = gcp\n",
    "        elif gcp.col <= 0.0 and gcp_bottom_right == None:\n",
    "            gcp_bottom_right = gcp\n",
    "        elif gcp_bottom_right != None:\n",
    "            gcp_bottom_left = gcp\n",
    "            break\n",
    "    v1, v2 = get_vectors(gcp_top_right, gcp_top_left, gcp_bottom_right, gcp_bottom_left)\n",
    "    origin = np.array([gcp_top_right.x, gcp_top_right.y])\n",
    "    u1, u2 = symbols('u1 u2')\n",
    "    eq1 = Eq(gcp_top_right.x - u1*v1[0] - u2*v2[0] - x_min, 0)\n",
    "    eq2 = Eq(gcp_top_right.y - u1*v1[1] - u2*v2[1] - y_min, 0)\n",
    "    sol = solve((eq1, eq2),(u1, u2))\n",
    "    return round(sol[u1]), round(sol[u2])"
   ]
  },
  {
   "cell_type": "code",
   "execution_count": null,
   "metadata": {},
   "outputs": [],
   "source": [
    "def translate_image(image, offset_x, offset_y):\n",
    "    result = []\n",
    "    for i in range(len(image)):\n",
    "        if (i % 1000) == 0:\n",
    "            print(i)\n",
    "        if 0 <= (i + offset_y) < len(image):\n",
    "            result_row = []\n",
    "            for j in range(len(image[0])):\n",
    "                if 0 <= (j + offset_x) < len(image[0]):\n",
    "                    result_row.append(image[i + offset_y][j + offset_x])\n",
    "                else:\n",
    "                    result_row.append(0)\n",
    "            result.append(result_row)\n",
    "        else:\n",
    "            result.append([0 for i in range(len(image[0]))])\n",
    "    return np.array(result, dtype=np.uint16)"
   ]
  },
  {
   "cell_type": "code",
   "execution_count": null,
   "metadata": {},
   "outputs": [],
   "source": [
    "def translate_bands(bands):\n",
    "    list_gcps = []\n",
    "    for band in bands:\n",
    "        list_gcps.append(rasterio.open(band).gcps[0])\n",
    "    gcps = create_gcps(list_gcps)\n",
    "    for band in bands:\n",
    "        image = rasterio.open(band)\n",
    "        offset_x, offset_y = get_offset(image.gcps[0], gcps[0].x, gcps[0].y)\n",
    "        translated = translate_image(image.read(1), offset_x, offset_y)\n",
    "        new_image = rasterio.open(band[:-5] + '_translated.tiff', 'w', driver='Gtiff', \n",
    "                          width=len(image.read(1)[0]), height=len(image.read(1)), count=1, crs=image.gcps[1], gcps=gcps,\n",
    "                          transform=image.transform,\n",
    "                          dtype=np.uint16\n",
    "                         )\n",
    "        image.close()\n",
    "        new_image.write(translated, 1)\n",
    "        #del translated\n",
    "        new_image.close()\n",
    "        print(\"Fin\", band)"
   ]
  },
  {
   "cell_type": "code",
   "execution_count": null,
   "metadata": {},
   "outputs": [],
   "source": [
    "translate_bands(bands)"
   ]
  }
 ],
 "metadata": {
  "kernelspec": {
   "display_name": "Python 3",
   "language": "python",
   "name": "python3"
  },
  "language_info": {
   "codemirror_mode": {
    "name": "ipython",
    "version": 3
   },
   "file_extension": ".py",
   "mimetype": "text/x-python",
   "name": "python",
   "nbconvert_exporter": "python",
   "pygments_lexer": "ipython3",
   "version": "3.7.7"
  }
 },
 "nbformat": 4,
 "nbformat_minor": 4
}
