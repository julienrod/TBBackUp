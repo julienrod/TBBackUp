{
 "cells": [
  {
   "cell_type": "code",
   "execution_count": null,
   "metadata": {},
   "outputs": [],
   "source": [
    "LIST_OF_DIRECTORIES = [\"output/basfws/ambiguous/coffee\", \"output/basfws/ambiguous/other\", \"output/basfws/coffee\",\n",
    "                       \"output/basfws/intercrop\", \"output/basfws/native_no_tree\", \"output/basfws/nativevege\",\n",
    "                       \"output/basfws/other_tree\", \"output/basfws/pepper\", \"output/basfws/pine_trees\",\n",
    "                       \"output/basfws/rice\", \"output/basfws/rubber\", \"output/basfws/seasonal\", \"output/basfws/tea\",\n",
    "                       \"output/basfws/urban\", \"output/basfws/water\", \"output/droitefws/ambiguous/other\",\n",
    "                       \"output/droitefws/coffee\", \"output/droitefws/native_no_tree\", \"output/droitefws/nativevege\",\n",
    "                       \"output/droitefws/other_tree\", \"output/droitefws/pepper\", \"output/droitefws/pine_trees\",\n",
    "                       \"output/droitefws/rice\", \"output/droitefws/rubber\", \"output/droitefws/seasonal\", \n",
    "                       \"output/droitefws/tea\", \"output/droitefws/urban\", \"output/droitefws/water\", \n",
    "                       \"output/gauchefws/ambiguous/coffee\", \"output/gauchefws/ambiguous/pepper\",\n",
    "                       \"output/gauchefws/coffee\", \"output/gauchefws/intercrop\", \"output/gauchefws/native_no_tree\",\n",
    "                       \"output/gauchefws/nativevege\", \"output/gauchefws/other_tree\", \"output/gauchefws/pepper\",\n",
    "                       \"output/gauchefws/rice\", \"output/gauchefws/rubber\", \"output/gauchefws/seasonal\",\n",
    "                       \"output/gauchefws/stick_pepper\", \"output/gauchefws/urban\", \"output/gauchefws/water\",\n",
    "                       \"output/hautfws/ambiguous/coffee\", \"output/hautfws/ambiguous/other\", \"output/hautfws/cassava\",\n",
    "                       \"output/hautfws/coffee\", \"output/hautfws/deciduous_forest\", \"output/hautfws/intercrop\",\n",
    "                       \"output/hautfws/native_no_tree\", \"output/hautfws/nativevege\", \"output/hautfws/other_tree\",\n",
    "                       \"output/hautfws/pepper\", \"output/hautfws/pine_trees\", \"output/hautfws/rice\", \n",
    "                       \"output/hautfws/rubber\", \"output/hautfws/seasonal\", \"output/hautfws/tea\", \"output/hautfws/urban\",\n",
    "                       \"output/hautfws/water\", \"output/milieufws/cassava\", \"output/milieufws/coffee\",\n",
    "                       \"output/milieufws/deciduous_forest\", \"output/milieufws/intercrop\", \n",
    "                       \"output/milieufws/native_no_tree\", \"output/milieufws/nativevege\", \"output/milieufws/other_tree\",\n",
    "                       \"output/milieufws/pepper\", \"output/milieufws/rice\", \"output/milieufws/rubber\",\n",
    "                       \"output/milieufws/seasonal\", \"output/milieufws/urban\", \"output/milieufws/water\"]\n",
    "COUNTAIN_COFFEE = \"coffee\"\n",
    "COUNTAIN_PEPPER = \"pepper\"\n",
    "PIXEL_LENGTH = 15\n",
    "BAND_WIDTH = 12\n",
    "NB_SPLIT = 5\n",
    "EPOCH = 1000"
   ]
  },
  {
   "cell_type": "markdown",
   "metadata": {},
   "source": [
    "# Première étape : charger les données\n",
    "\n",
    "Importer le nom des données"
   ]
  },
  {
   "cell_type": "code",
   "execution_count": null,
   "metadata": {},
   "outputs": [],
   "source": [
    "import os \n",
    "import numpy as np\n",
    "from matplotlib import pyplot as pl\n",
    "import random\n",
    "import rasterio\n",
    "import os\n",
    "#os.environ['CUDA_VISIBLE_DEVICES']='1'\n",
    "\n",
    "%matplotlib inline"
   ]
  },
  {
   "cell_type": "code",
   "execution_count": null,
   "metadata": {},
   "outputs": [],
   "source": [
    "def get_all_images_names(directories): \n",
    "    images_name = []\n",
    "    for directory in directories:\n",
    "        counter = 0\n",
    "        for filename in os.listdir(directory): \n",
    "            if os.path.isfile(directory + \"/\" + filename):\n",
    "                images_name.append(directory + \"/\" + filename)\n",
    "                counter += 1\n",
    "            elif os.path.isdir(directory + \"/\" + filename):\n",
    "                images_name += get_all_images_names([directory + \"/\" + filename])\n",
    "        print(directory, counter, \"images.\")\n",
    "    return images_name\n",
    "images_name = get_all_images_names(LIST_OF_DIRECTORIES)"
   ]
  },
  {
   "cell_type": "markdown",
   "metadata": {},
   "source": [
    "Importer les images et leur résultat voulu"
   ]
  },
  {
   "cell_type": "code",
   "execution_count": null,
   "metadata": {},
   "outputs": [],
   "source": [
    "def reshape(image):\n",
    "    \"\"\"Reformate les données rasterio pour être utilisée par Tensorflow\"\"\"\n",
    "    reshaped_image = []\n",
    "    for i in range(len(image[0])):\n",
    "        reshaped_row = []\n",
    "        for j in range(len(image[0][0])):\n",
    "            reshaped_cell = []\n",
    "            #Fall\n",
    "            reshaped_cell.append(image[0][i][j] / 65535)#Infra red\n",
    "            reshaped_cell.append(image[1][i][j] / 65535)#Red\n",
    "            reshaped_cell.append(image[2][i][j] / 65535)#Green\n",
    "            reshaped_cell.append(image[3][i][j] / 65535)#Blue\n",
    "            #Winter\n",
    "            reshaped_cell.append(image[4][i][j] / 65535)#Infra red\n",
    "            reshaped_cell.append(image[5][i][j] / 65535)#Red\n",
    "            reshaped_cell.append(image[6][i][j] / 65535)#Green\n",
    "            reshaped_cell.append(image[7][i][j] / 65535)#Blue\n",
    "            #Spring\n",
    "            reshaped_cell.append(image[8][i][j] / 65535)#Infra red\n",
    "            reshaped_cell.append(image[9][i][j] / 65535)#Red\n",
    "            reshaped_cell.append(image[10][i][j] / 65535)#Green\n",
    "            reshaped_cell.append(image[11][i][j] / 65535)#Blue\n",
    "            #Si les images ne possèdent pas l'intégralité des 12 bandes, utilisez plutôt le code suivant\n",
    "            #for k in range(BAND_WIDTH):\n",
    "            #    reshaped_cell.append(image[k][i][j] / 65535)\n",
    "            reshaped_row.append(reshaped_cell)\n",
    "        reshaped_image.append(reshaped_row)\n",
    "    return reshaped_image"
   ]
  },
  {
   "cell_type": "code",
   "execution_count": null,
   "metadata": {},
   "outputs": [],
   "source": [
    "images = []\n",
    "for image_name in images_name:\n",
    "    if COUNTAIN_COFFEE in image_name:\n",
    "        images.append((np.array(rasterio.open(image_name).read()), 2))\n",
    "    elif COUNTAIN_PEPPER in image_name:\n",
    "        images.append((np.array(rasterio.open(image_name).read()), 1))\n",
    "    else:\n",
    "        images.append((np.array(rasterio.open(image_name).read()), 0))\n",
    "print(\"Longueur initiale : \", len(images))"
   ]
  },
  {
   "cell_type": "code",
   "execution_count": null,
   "metadata": {},
   "outputs": [],
   "source": [
    "def add_all_rotations(images):\n",
    "    result = []\n",
    "    for image in images:\n",
    "        result.append(image)\n",
    "        for i in range (1, 4):\n",
    "            rotated_image = []\n",
    "            #Si les images ne possèdent pas l'intégralité des 12 bandes, utilisez BAND_WIDTH au lieu de 12\n",
    "            for j in range(12):\n",
    "                rotated_image.append(np.rot90(image[0][j], i))\n",
    "            result.append((rotated_image, image[1]))\n",
    "    return result"
   ]
  },
  {
   "cell_type": "code",
   "execution_count": null,
   "metadata": {},
   "outputs": [],
   "source": [
    "images = add_all_rotations(images)\n",
    "random.shuffle(images)"
   ]
  },
  {
   "cell_type": "code",
   "execution_count": null,
   "metadata": {},
   "outputs": [],
   "source": [
    "images_x = []\n",
    "images_y = []\n",
    "for image in images:\n",
    "    images_x.append(reshape(image[0]))\n",
    "    images_y.append(image[1])\n",
    "images_x = np.array(images_x).reshape(len(images_x), PIXEL_LENGTH, PIXEL_LENGTH, BAND_WIDTH)\n",
    "images_y = np.array(images_y)\n",
    "print(\"Longueur du set d'entrainement : \", len(images_x))"
   ]
  },
  {
   "cell_type": "markdown",
   "metadata": {},
   "source": [
    "# Deuxième étape : créer notre cross validation"
   ]
  },
  {
   "cell_type": "code",
   "execution_count": null,
   "metadata": {},
   "outputs": [],
   "source": [
    "from sklearn.model_selection import StratifiedKFold\n",
    "from sklearn import metrics as me"
   ]
  },
  {
   "cell_type": "code",
   "execution_count": null,
   "metadata": {},
   "outputs": [],
   "source": [
    "kfold = StratifiedKFold(n_splits=NB_SPLIT)"
   ]
  },
  {
   "cell_type": "code",
   "execution_count": null,
   "metadata": {},
   "outputs": [],
   "source": [
    "class_weight = None\n",
    "coffee = np.count_nonzero(images_y == 2)\n",
    "pepper = np.count_nonzero(images_y == 1) \n",
    "other = len(images_y) - (coffee + pepper)\n",
    "print(\"café :\", str(coffee) +\",\", \"poivre :\", str(pepper) +\",\", \"autre :\", other)\n",
    "if other >= coffee and other >= pepper:\n",
    "    class_weight = {0: 1.,1: other / pepper, 2: other / coffee} \n",
    "elif coffee >= other and coffee >= pepper:\n",
    "    class_weight = {0: coffee / other,1: coffee / pepper, 2: 1.} \n",
    "else:\n",
    "    class_weight = {0: pepper / other,1: 1., 2: pepper / coffee} "
   ]
  },
  {
   "cell_type": "code",
   "execution_count": null,
   "metadata": {},
   "outputs": [],
   "source": [
    "correspondances = {'0':[1,0,0], '1':[0,1,0], '2':[0,0,1]}\n",
    "def transform_output_value(liste):\n",
    "    \"\"\"StratifiedKFold n'aimant pas les valeurs de sortie en vecteur, cette fonction fera la correspondance entre \n",
    "    une valeur et un vecteur\"\"\"\n",
    "    result = []\n",
    "    for value in liste:\n",
    "        result.append(correspondances[str(value)])\n",
    "    return np.array(result)"
   ]
  },
  {
   "cell_type": "markdown",
   "metadata": {},
   "source": [
    "# Troisième étape : entrainer et tester"
   ]
  },
  {
   "cell_type": "code",
   "execution_count": null,
   "metadata": {},
   "outputs": [],
   "source": [
    "def get_fscore_recall_precision(truth, prediction, indice=2):\n",
    "    true_positive = 0\n",
    "    false_negative = 0\n",
    "    false_positive = 0\n",
    "    for i in range(len(truth)):\n",
    "        if truth[i] == indice and prediction[i] == indice:\n",
    "            true_positive += 1\n",
    "        elif truth[i] != indice and prediction[i] == indice:\n",
    "            false_positive += 1\n",
    "        elif truth[i] == indice and prediction[i] != indice:\n",
    "            false_negative += 1\n",
    "    precision = true_positive/(true_positive + false_positive) if (true_positive + false_positive) > 0 else None\n",
    "    recall = true_positive/(true_positive + false_negative) if (true_positive + false_negative) > 0 else None\n",
    "    fscore = 2 * recall * precision / (recall + precision) if recall != None and precision != None else None\n",
    "    return fscore, recall, precision"
   ]
  },
  {
   "cell_type": "code",
   "execution_count": null,
   "metadata": {
    "scrolled": false
   },
   "outputs": [],
   "source": [
    "from keras.models import Sequential\n",
    "from keras.layers import Dense, Conv2D, Flatten, Dropout, MaxPooling2D\n",
    "import keras\n",
    "cvscores = []\n",
    "\n",
    "coffee_avg_recall = []\n",
    "coffee_avg_precision = []\n",
    "coffee_avg_fscore = []\n",
    "\n",
    "pepper_avg_recall = []\n",
    "pepper_avg_precision = []\n",
    "pepper_avg_fscore = []\n",
    "\n",
    "other_avg_recall = []\n",
    "other_avg_precision = []\n",
    "other_avg_fscore = []\n",
    "\n",
    "i = 0\n",
    "for train, test in kfold.split(images_x, images_y):\n",
    "\n",
    "    train_y = transform_output_value(images_y[train])\n",
    "    test_y = transform_output_value(images_y[test])\n",
    "    # create model\n",
    "    model = Sequential()\n",
    "    model.add(Conv2D(32, (3,3), activation='relu',  input_shape=(PIXEL_LENGTH,PIXEL_LENGTH,BAND_WIDTH)))\n",
    "    model.add(MaxPooling2D(pool_size = (2 ,2)))\n",
    "    model.add(Conv2D(16, (3,3), activation='relu'))\n",
    "    model.add(MaxPooling2D(pool_size = (2 ,2)))\n",
    "    model.add(Dropout(0.25))\n",
    "    model.add(Flatten())\n",
    "    model.add(Dense(64, activation='relu'))\n",
    "    model.add(Dropout(0.5))\n",
    "    model.add(Dense(16, activation='relu'))\n",
    "    model.add(Dropout(0.25))\n",
    "    model.add(Dense(3, activation='softmax'))\n",
    "    # Compile model\n",
    "    model.compile(loss='categorical_crossentropy', optimizer='adam', metrics=['accuracy'])\n",
    "    # Fit the model\n",
    "    history = model.fit(images_x[train], train_y, epochs=EPOCH, batch_size=32, \n",
    "                        validation_data=(images_x[test], test_y), class_weight=class_weight)\n",
    "    # evaluate the model\n",
    "    scores = model.evaluate(images_x[test], test_y, verbose=0)\n",
    "    print(\"%s: %.2f%%\" % (model.metrics_names[1], scores[1]*100))\n",
    "    cvscores.append(scores[1] * 100)\n",
    "    model.save(\"model\"+str(i)+\"m.h5\")\n",
    "    i += 1\n",
    "    \n",
    "    pl.plot(history.history['loss'], label='Training')\n",
    "    pl.plot(history.history['val_loss'], label='Testing')\n",
    "    pl.ylim(0, 2) \n",
    "    pl.legend()\n",
    "    pl.grid()\n",
    "    print('Test score:', scores[0])\n",
    "    print('Test accuracy:', scores[1])\n",
    "    pl.show()\n",
    "    pred = model.predict_classes(images_x[test])\n",
    "    \n",
    "    f, r, p = get_fscore_recall_precision(images_y[test], pred)\n",
    "    print('Test recall coffee', r)\n",
    "    print('Test precision coffee', p)\n",
    "    print('Test f-score coffee', f)\n",
    "    coffee_avg_recall.append(r * 100)\n",
    "    coffee_avg_precision.append(p * 100)\n",
    "    coffee_avg_fscore.append(f * 100)\n",
    "    \n",
    "    f, r, p = get_fscore_recall_precision(images_y[test], pred, 1)\n",
    "    print('Test recall pepper', r)\n",
    "    print('Test precision pepper', p)\n",
    "    print('Test f-score pepper', f)\n",
    "    pepper_avg_recall.append(r * 100)\n",
    "    pepper_avg_precision.append(p * 100)\n",
    "    pepper_avg_fscore.append(f * 100)\n",
    "    \n",
    "    f, r, p = get_fscore_recall_precision(images_y[test], pred, 0)\n",
    "    print('Test recall other', r)\n",
    "    print('Test precision other', p)\n",
    "    print('Test f-score other', f)\n",
    "    other_avg_recall.append(r * 100)\n",
    "    other_avg_precision.append(p * 100)\n",
    "    other_avg_fscore.append(f * 100)\n",
    "    \n",
    "    print(me.confusion_matrix(images_y[test], pred))\n",
    "    \n",
    "print(\"%.2f%% (+/- %.2f%%)\" % (np.mean(cvscores), np.std(cvscores)))\n",
    "\n",
    "print(\"Recall coffee %.2f%% (+/- %.2f%%)\" % (np.mean(coffee_avg_recall), np.std(coffee_avg_recall)))\n",
    "print(\"Precision coffee %.2f%% (+/- %.2f%%)\" % (np.mean(coffee_avg_precision), np.std(coffee_avg_precision)))\n",
    "print(\"F-Score coffee %.2f%% (+/- %.2f%%)\" % (np.mean(coffee_avg_fscore), np.std(coffee_avg_fscore)))\n",
    "\n",
    "print(\"Recall pepper %.2f%% (+/- %.2f%%)\" % (np.mean(pepper_avg_recall), np.std(pepper_avg_recall)))\n",
    "print(\"Precision pepper %.2f%% (+/- %.2f%%)\" % (np.mean(pepper_avg_precision), np.std(pepper_avg_precision)))\n",
    "print(\"F-Score pepper %.2f%% (+/- %.2f%%)\" % (np.mean(pepper_avg_fscore), np.std(pepper_avg_fscore)))\n",
    "\n",
    "print(\"Recall other %.2f%% (+/- %.2f%%)\" % (np.mean(other_avg_recall), np.std(other_avg_recall)))\n",
    "print(\"Precision other %.2f%% (+/- %.2f%%)\" % (np.mean(other_avg_precision), np.std(other_avg_precision)))\n",
    "print(\"F-Score other %.2f%% (+/- %.2f%%)\" % (np.mean(other_avg_fscore), np.std(other_avg_fscore)))"
   ]
  },
  {
   "cell_type": "code",
   "execution_count": null,
   "metadata": {},
   "outputs": [],
   "source": []
  }
 ],
 "metadata": {
  "kernelspec": {
   "display_name": "Python 3",
   "language": "python",
   "name": "python3"
  },
  "language_info": {
   "codemirror_mode": {
    "name": "ipython",
    "version": 3
   },
   "file_extension": ".py",
   "mimetype": "text/x-python",
   "name": "python",
   "nbconvert_exporter": "python",
   "pygments_lexer": "ipython3",
   "version": "3.7.7"
  }
 },
 "nbformat": 4,
 "nbformat_minor": 4
}
