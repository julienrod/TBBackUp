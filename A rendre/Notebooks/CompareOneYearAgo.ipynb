{
 "cells": [
  {
   "cell_type": "code",
   "execution_count": null,
   "metadata": {},
   "outputs": [],
   "source": [
    "NOW = [\"output/bas1c\", \"output/droite1c\", \"output/gauche1c\", \"output/haut1c\", \"output/milieu1c\"]\n",
    "ONE_YEAR_AGO = [\"output/bas2018\", \"output/droite2018\", \"output/gauche2018\", \"output/haut2018\", \"output/milieu2018\"]\n",
    "COUNTAIN_START = \"coffee\""
   ]
  },
  {
   "cell_type": "markdown",
   "metadata": {},
   "source": [
    "# Première étape : charger les données\n",
    "\n",
    "Importer le nom des données"
   ]
  },
  {
   "cell_type": "code",
   "execution_count": null,
   "metadata": {},
   "outputs": [],
   "source": [
    "import os \n",
    "import numpy as np\n",
    "import random\n",
    "import rasterio\n",
    "os.environ['CUDA_VISIBLE_DEVICES']='1'\n",
    "from keras.models import load_model"
   ]
  },
  {
   "cell_type": "code",
   "execution_count": null,
   "metadata": {
    "scrolled": false
   },
   "outputs": [],
   "source": [
    "def get_all_images_names(directories): \n",
    "    images_name = []\n",
    "    for directory in directories:\n",
    "        counter = 0\n",
    "        for filename in os.listdir(directory): \n",
    "            if os.path.isfile(directory + \"/\" + filename):\n",
    "                images_name.append(directory + \"/\" + filename)\n",
    "                counter += 1\n",
    "            elif os.path.isdir(directory + \"/\" + filename):\n",
    "                images_name += get_all_images_names([directory + \"/\" + filename])\n",
    "        print(directory, counter, \"images.\")\n",
    "    return images_name"
   ]
  },
  {
   "cell_type": "code",
   "execution_count": null,
   "metadata": {},
   "outputs": [],
   "source": [
    "images_name_now = get_all_images_names(NOW)"
   ]
  },
  {
   "cell_type": "code",
   "execution_count": null,
   "metadata": {},
   "outputs": [],
   "source": [
    "images_name_ago = get_all_images_names(ONE_YEAR_AGO)"
   ]
  },
  {
   "cell_type": "markdown",
   "metadata": {},
   "source": [
    "Importer les images et leur résultat voulu"
   ]
  },
  {
   "cell_type": "code",
   "execution_count": null,
   "metadata": {},
   "outputs": [],
   "source": [
    "def reshape(image):\n",
    "    \"\"\"Reformate les données rasterio pour être utilisée par Tensorflow\"\"\"\n",
    "    reshaped_image = []\n",
    "    for i in range(len(image[0])):\n",
    "        reshaped_row = []\n",
    "        for j in range(len(image[0][0])):\n",
    "            reshaped_cell = []\n",
    "            #Automne\n",
    "            reshaped_cell.append(image[0][i][j] / 65535) #Infra rouge\n",
    "            reshaped_cell.append(image[1][i][j] / 65535) #Rouge\n",
    "            reshaped_cell.append(image[2][i][j] / 65535) #Vert\n",
    "            reshaped_cell.append(image[3][i][j] / 65535) #Bleu\n",
    "            #Hiver\n",
    "            reshaped_cell.append(image[4][i][j] / 65535) #Infra rouge\n",
    "            reshaped_cell.append(image[5][i][j] / 65535) #Rouge\n",
    "            reshaped_cell.append(image[6][i][j] / 65535) #Vert\n",
    "            reshaped_cell.append(image[7][i][j] / 65535) #Bleu\n",
    "            #Printemps\n",
    "            reshaped_cell.append(image[8][i][j] / 65535) #Infra rouge\n",
    "            reshaped_cell.append(image[9][i][j] / 65535) #Rouge\n",
    "            reshaped_cell.append(image[10][i][j] / 65535) #Vert\n",
    "            reshaped_cell.append(image[11][i][j] / 65535) #Bleu\n",
    "            \n",
    "            #Si les images ne possèdent pas l'intégralité des 12 bandes, utilisez plutôt le code suivant\n",
    "            #for k in range(len(image)):\n",
    "            #    reshaped_cell.append(image[k][i][j] / 65535)\n",
    "            \n",
    "            reshaped_row.append(reshaped_cell)\n",
    "        reshaped_image.append(reshaped_row)\n",
    "    return reshaped_image"
   ]
  },
  {
   "cell_type": "code",
   "execution_count": null,
   "metadata": {},
   "outputs": [],
   "source": [
    "def load_images(images_name):\n",
    "    images = []\n",
    "    classes = []\n",
    "    for image_name in images_name:\n",
    "        images.append(reshape(np.array(rasterio.open(image_name).read())))\n",
    "        if COUNTAIN_START in image_name:\n",
    "            classes.append(1)\n",
    "        else:\n",
    "            classes.append(0)\n",
    "    print(\"Longueur initiale : \", len(images))\n",
    "    return np.array(images).reshape(len(images), len(images[0]), len(images[0][0]), len(images[0][0][0])), np.array(classes)"
   ]
  },
  {
   "cell_type": "code",
   "execution_count": null,
   "metadata": {},
   "outputs": [],
   "source": [
    "images_now, classes_now = load_images(images_name_now)"
   ]
  },
  {
   "cell_type": "code",
   "execution_count": null,
   "metadata": {},
   "outputs": [],
   "source": [
    "images_ago, classes_ago = load_images(images_name_ago)"
   ]
  },
  {
   "cell_type": "code",
   "execution_count": null,
   "metadata": {},
   "outputs": [],
   "source": [
    "model = load_model('GoodModel/model1c6Bands.h5')\n",
    "model.summary()"
   ]
  },
  {
   "cell_type": "markdown",
   "metadata": {},
   "source": [
    "# Deuxième étape : tester"
   ]
  },
  {
   "cell_type": "code",
   "execution_count": null,
   "metadata": {},
   "outputs": [],
   "source": [
    "def get_fscore_recall_precision(truth, prediction):\n",
    "    true_positive = 0\n",
    "    false_negative = 0\n",
    "    false_positive = 0\n",
    "    for i in range(len(truth)):\n",
    "        if truth[i] == 1 and prediction[i] == 1:\n",
    "            true_positive += 1\n",
    "        elif truth[i] == 0 and prediction[i] == 1:\n",
    "            false_positive += 1\n",
    "        elif truth[i] == 1 and prediction[i] == 0:\n",
    "            false_negative += 1\n",
    "    precision = true_positive/(true_positive + false_positive) if (true_positive + false_positive) > 0 else None\n",
    "    recall = true_positive/(true_positive + false_negative) if (true_positive + false_negative) > 0 else None\n",
    "    fscore = 2 * recall * precision / (recall + precision) if recall != None and precision != None else None\n",
    "    return fscore, recall, precision"
   ]
  },
  {
   "cell_type": "code",
   "execution_count": null,
   "metadata": {
    "scrolled": false
   },
   "outputs": [],
   "source": [
    "from sklearn import metrics as me\n",
    "# evaluate the model now\n",
    "print(\"Now\")\n",
    "scores = model.evaluate(images_now, classes_now, verbose=0)\n",
    "print(\"%s: %.2f%%\" % (model.metrics_names[1], scores[1]*100))\n",
    "print('Test accuracy:', scores[1])\n",
    "pred = model.predict_classes(images_now)\n",
    "f, r, p = get_fscore_recall_precision(classes_now, pred)\n",
    "print('Test recall', r)\n",
    "print('Test precision', p)\n",
    "print('Test f-score', f)\n",
    "print(me.confusion_matrix(classes_now, pred))\n",
    "\n",
    "# evaluate the model a year ago\n",
    "print(\"A year ago\")\n",
    "scores = model.evaluate(images_ago, classes_ago, verbose=0)\n",
    "print(\"%s: %.2f%%\" % (model.metrics_names[1], scores[1]*100))\n",
    "print('Test accuracy:', scores[1])\n",
    "pred = model.predict_classes(images_ago)\n",
    "f, r, p = get_fscore_recall_precision(classes_ago, pred)\n",
    "print('Test recall', r)\n",
    "print('Test precision', p)\n",
    "print('Test f-score', f)\n",
    "print(me.confusion_matrix(classes_ago, pred))\n",
    "    "
   ]
  },
  {
   "cell_type": "code",
   "execution_count": null,
   "metadata": {},
   "outputs": [],
   "source": []
  }
 ],
 "metadata": {
  "kernelspec": {
   "display_name": "Python 3",
   "language": "python",
   "name": "python3"
  },
  "language_info": {
   "codemirror_mode": {
    "name": "ipython",
    "version": 3
   },
   "file_extension": ".py",
   "mimetype": "text/x-python",
   "name": "python",
   "nbconvert_exporter": "python",
   "pygments_lexer": "ipython3",
   "version": "3.7.7"
  }
 },
 "nbformat": 4,
 "nbformat_minor": 4
}
