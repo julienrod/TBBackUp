{
 "cells": [
  {
   "cell_type": "code",
   "execution_count": null,
   "metadata": {},
   "outputs": [],
   "source": [
    "# https://sentinelsat.readthedocs.io/en/stable/api.html\n",
    "# connect to the API\n",
    "from sentinelsat import SentinelAPI, read_geojson, geojson_to_wkt\n",
    "from datetime import date"
   ]
  },
  {
   "cell_type": "code",
   "execution_count": null,
   "metadata": {},
   "outputs": [],
   "source": [
    "# read credential\n",
    "credential = open(\"credentials\", \"r\").read().split(\":\")"
   ]
  },
  {
   "cell_type": "code",
   "execution_count": null,
   "metadata": {},
   "outputs": [],
   "source": [
    "api = SentinelAPI(credential[0], credential[1], 'https://scihub.copernicus.eu/dhus')\n",
    "\n",
    "# search by polygon, time, and SciHub query keywords\n",
    "footprint = geojson_to_wkt(read_geojson('coordinates.geojson'))\n",
    "products = api.query(footprint,\n",
    "                     date=(\"NOW-5DAY\", \"NOW\"),\n",
    "                     #Pour sentinel-1\n",
    "                     #platformname='Sentinel-1',\n",
    "                     #producttype='GRD', \n",
    "                     #Pour Sentinel-2\n",
    "                     platformname='Sentinel-2',\n",
    "                     producttype='S2MSI2A', #ou 'S2MSI1C'\n",
    "                     cloudcoverpercentage=(0, 30)\n",
    "                    )\n",
    "\n",
    "# download all results from the search\n",
    "if len(products) > 0:\n",
    "    api.download_all(products, directory_path=\"todo\")"
   ]
  },
  {
   "cell_type": "code",
   "execution_count": null,
   "metadata": {},
   "outputs": [],
   "source": []
  }
 ],
 "metadata": {
  "kernelspec": {
   "display_name": "Python 3",
   "language": "python",
   "name": "python3"
  },
  "language_info": {
   "codemirror_mode": {
    "name": "ipython",
    "version": 3
   },
   "file_extension": ".py",
   "mimetype": "text/x-python",
   "name": "python",
   "nbconvert_exporter": "python",
   "pygments_lexer": "ipython3",
   "version": "3.7.7"
  }
 },
 "nbformat": 4,
 "nbformat_minor": 4
}
