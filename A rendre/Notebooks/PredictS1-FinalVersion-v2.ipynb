{
 "cells": [
  {
   "cell_type": "markdown",
   "metadata": {},
   "source": [
    "## Importer le modèle"
   ]
  },
  {
   "cell_type": "code",
   "execution_count": null,
   "metadata": {},
   "outputs": [],
   "source": [
    "from keras.models import load_model\n",
    "import numpy as np\n",
    "import os\n",
    "import SentinelFonction as sf\n",
    "np.seterr(divide='ignore', invalid='ignore') #Il se peut qu'il y ait des divisions par 0, numpy retourne 0 dans ces cas.\n",
    "model = load_model('model2s1_8.h5')\n",
    "# summarize model.\n",
    "model.summary()"
   ]
  },
  {
   "cell_type": "markdown",
   "metadata": {},
   "source": [
    "## Importer l'image"
   ]
  },
  {
   "cell_type": "code",
   "execution_count": null,
   "metadata": {},
   "outputs": [],
   "source": [
    "import rasterio\n",
    "#Mettre les chemins d'accès aux bandes utilisées par l'entrainement du\n",
    "#modèle utilisé dans le bon ordre dans le tableau ci-dessous.\n",
    "bands = ['../Données/S1Spring/measurement/s1a-iw-grd-vv-20200408t223649-20200408t223714-032042-03b3ce-001.tiff',\n",
    "         '../Données/S1Spring/measurement/s1a-iw-grd-vh-20200408t223649-20200408t223714-032042-03b3ce-002.tiff',\n",
    "         '../Données/S1Summer/measurement/s1a-iw-grd-vv-20200713t223654-20200713t223719-033442-03e00d-001.tiff',\n",
    "         '../Données/S1Summer/measurement/s1a-iw-grd-vh-20200713t223654-20200713t223719-033442-03e00d-002.tiff',\n",
    "         '../Données/S1Fall/measurement/s1a-iw-grd-vv-20191011t223652-20191011t223717-029417-035883-001.tiff',\n",
    "         '../Données/S1Fall/measurement/s1a-iw-grd-vh-20191011t223652-20191011t223717-029417-035883-002.tiff',\n",
    "         '../Données/S1Winter/measurement/s1a-iw-grd-vv-20200115t223649-20200115t223714-030817-038911-001.tiff',\n",
    "         '../Données/S1Winter/measurement/s1a-iw-grd-vh-20200115t223649-20200115t223714-030817-038911-002.tiff'\n",
    "        ]\n",
    "bands_for_blue = ['../Données/S1Spring/measurement/s1a-iw-grd-vh-20200408t223649-20200408t223714-032042-03b3ce-002.tiff',\n",
    "                  '../Données/S1Summer/measurement/s1a-iw-grd-vh-20200713t223654-20200713t223719-033442-03e00d-002.tiff',\n",
    "                  '../Données/S1Fall/measurement/s1a-iw-grd-vh-20191011t223652-20191011t223717-029417-035883-002.tiff',\n",
    "                  '../Données/S1Winter/measurement/s1a-iw-grd-vh-20200115t223649-20200115t223714-030817-038911-002.tiff']"
   ]
  },
  {
   "cell_type": "code",
   "execution_count": null,
   "metadata": {},
   "outputs": [],
   "source": [
    "IMAGE_PIXEL = 30"
   ]
  },
  {
   "cell_type": "code",
   "execution_count": null,
   "metadata": {},
   "outputs": [],
   "source": [
    "def harmonize_s1bands(bands, bands_for_blue=None, image_pixel=30):\n",
    "    if bands_for_blue != None:\n",
    "        assert(len(bands) == len(bands_for_blue)), \"The two lists of bands must have the same lenght\"\n",
    "    images = []\n",
    "    images_for_blue = []\n",
    "    width = None\n",
    "    height = None\n",
    "    crs = None\n",
    "    transform = None\n",
    "    dtype = None\n",
    "    count = len(bands) if bands_for_blue == None else len(bands) * 3\n",
    "    list_gcps = []\n",
    "    #Créer l'harmonisation des coordonnées gcps\n",
    "    for band in bands:\n",
    "        list_gcps.append(rasterio.open(band).gcps[0])\n",
    "    gcps = create_gcps(list_gcps)\n",
    "    print(\"gcps created\")\n",
    "    #Découper les bandes\n",
    "    for band in bands:\n",
    "        image = rasterio.open(band)\n",
    "        offset_x, offset_y = get_offset(image.gcps[0], gcps[0].x, gcps[0].y)\n",
    "        images.append(split_band(image.read(1), image_pixel, offset_x, offset_y))\n",
    "        if width == None:\n",
    "            width = image.width\n",
    "            height = image.height\n",
    "            crs = image.gcps[1]\n",
    "            transform = image.transform\n",
    "            dtype = image.dtypes[0]\n",
    "        image.close()\n",
    "        print(\"Fin\", band)   \n",
    "    if bands_for_blue != None:\n",
    "        for band in bands_for_blue:\n",
    "            image = rasterio.open(band)\n",
    "            offset_x, offset_y = get_offset(image.gcps[0], gcps[0].x, gcps[0].y)\n",
    "            images_for_blue.append(split_band(image.read(1), image_pixel, offset_x, offset_y))\n",
    "            image.close()\n",
    "            print(\"Fin\", band)\n",
    "\n",
    "    return images, images_for_blue, width, height, crs, transform, dtype, count, gcps"
   ]
  },
  {
   "cell_type": "markdown",
   "metadata": {},
   "source": [
    "## Faire la prédiction"
   ]
  },
  {
   "cell_type": "code",
   "execution_count": null,
   "metadata": {},
   "outputs": [],
   "source": [
    "def predict(model, bands, bands_for_blue=None, output_path=\"output\", output_name=\"prédiction\"):\n",
    "    \"\"\"Créée l'image de sortie en noir et blanc\"\"\"\n",
    "    print(\"Has started\")\n",
    "    images, images_for_blue, width, height, crs, transform, dtype, count, gcps = \\\n",
    "                                        sf.harmonize_s1bands(bands, bands_for_blue, image_pixel=IMAGE_PIXEL)\n",
    "    print(len(images), len(images_for_blue))\n",
    "    prediction = []\n",
    "    prediction_len = set()\n",
    "    for x in range((height // IMAGE_PIXEL) + 1):\n",
    "        print(x + 1, \"/\", (height // IMAGE_PIXEL) + 1)\n",
    "        row_prediction = []\n",
    "        for y in range((width // IMAGE_PIXEL) + 1):\n",
    "            smaller_image = []\n",
    "            for i in range(len(images)):\n",
    "                smaller_image.append(images[i][x][y])\n",
    "                if bands_for_blue != None:\n",
    "                    smaller_image.append(images_for_blue[i][x][y])\n",
    "                    smaller_image.append(sf.make_blue(images[i][x][y], images_for_blue[i][x][y]))\n",
    "            value = model.predict(np.expand_dims(sf.reshape(smaller_image, count), axis=0))\n",
    "            prediction_len.add(value[0][0] * 65535)\n",
    "            for i in range(IMAGE_PIXEL):\n",
    "                row_prediction.append(value[0][0] * 65535)\n",
    "                \n",
    "        for i in range(IMAGE_PIXEL):\n",
    "            prediction.append(np.array(row_prediction).astype('uint16'))\n",
    "    if not os.path.isdir(output_path):\n",
    "        os.mkdir(output_path)\n",
    "    output = rasterio.open(output_path + '/' + output_name + '.tiff', 'w', driver='Gtiff', \n",
    "                          width=width, height=height, count=1, crs=crs, gcps=gcps,\n",
    "                          transform=transform, \n",
    "                          dtype=dtype)\n",
    "    output.write(prediction, 1)\n",
    "    output.close()\n",
    "    print(\"Le fichier de prédiction a été créé.\")"
   ]
  },
  {
   "cell_type": "code",
   "execution_count": null,
   "metadata": {
    "scrolled": true
   },
   "outputs": [],
   "source": [
    "predict(model, bands, output_path=\"output\", output_name=\"prédictionS1AllSeasons\")"
   ]
  },
  {
   "cell_type": "code",
   "execution_count": null,
   "metadata": {},
   "outputs": [],
   "source": []
  }
 ],
 "metadata": {
  "kernelspec": {
   "display_name": "Python 3",
   "language": "python",
   "name": "python3"
  },
  "language_info": {
   "codemirror_mode": {
    "name": "ipython",
    "version": 3
   },
   "file_extension": ".py",
   "mimetype": "text/x-python",
   "name": "python",
   "nbconvert_exporter": "python",
   "pygments_lexer": "ipython3",
   "version": "3.7.7"
  }
 },
 "nbformat": 4,
 "nbformat_minor": 4
}
