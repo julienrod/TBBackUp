{
 "cells": [
  {
   "cell_type": "markdown",
   "metadata": {},
   "source": [
    "## Importer le modèle"
   ]
  },
  {
   "cell_type": "code",
   "execution_count": null,
   "metadata": {},
   "outputs": [],
   "source": [
    "from keras.models import load_model\n",
    "import numpy as np\n",
    "model = load_model('GoodModel/model_multi_Recommandation6.h5')\n",
    "\n",
    "model.summary()"
   ]
  },
  {
   "cell_type": "markdown",
   "metadata": {},
   "source": [
    "## Importer l'image"
   ]
  },
  {
   "cell_type": "code",
   "execution_count": null,
   "metadata": {},
   "outputs": [],
   "source": [
    "import rasterio\n",
    "import rasterio\n",
    "#Mettre les chemins d'accès aux bandes utilisées par l'entrainement du\n",
    "#modèle utilisé dans le bon ordre dans le tableau ci-dessous.\n",
    "bands = ['gauche/fall/T48PYU_20191025T030811_B08_10m.jp2',\n",
    "        'gauche/fall/T48PYU_20191025T030811_B03_10m.jp2',\n",
    "        'gauche/winter/T48PYU_20191224T031131_B08_10m.jp2',\n",
    "        'gauche/winter/T48PYU_20191224T031131_B03_10m.jp2',\n",
    "        'gauche/spring/T48PYU_20200318T030539_B08_10m.jp2',\n",
    "        'gauche/spring/T48PYU_20200318T030539_B03_10m.jp2',\n",
    "        ]"
   ]
  },
  {
   "cell_type": "code",
   "execution_count": null,
   "metadata": {},
   "outputs": [],
   "source": [
    "IMAGE_PIXEL = 15\n",
    "IMAGE_WIDTH = 732\n",
    "BAND_WIDTH = len(bands)"
   ]
  },
  {
   "cell_type": "code",
   "execution_count": null,
   "metadata": {},
   "outputs": [],
   "source": [
    "def reshape(image, width):\n",
    "    \"\"\"Transforme une image raster pour pouvoir être utilisable par le réseau de neurones\"\"\"\n",
    "    reshaped_image = []\n",
    "    for i in range(len(image[0])):\n",
    "        reshaped_row = []\n",
    "        for j in range(len(image[0][0])):\n",
    "            reshaped_cell = []\n",
    "            for k in range(width):\n",
    "                reshaped_cell.append(image[k][i][j] / 65535)\n",
    "            reshaped_row.append(reshaped_cell)\n",
    "        reshaped_image.append(reshaped_row)\n",
    "    return reshaped_image"
   ]
  },
  {
   "cell_type": "code",
   "execution_count": null,
   "metadata": {},
   "outputs": [],
   "source": [
    "def split_band(band, width, pixel_length):\n",
    "    \"\"\"Split une bande de Sentinel-2 en bande plus petites images\"\"\"\n",
    "    result = []\n",
    "    my_band = band.read(1)\n",
    "    for x in range(width):\n",
    "        columns = []\n",
    "        for y in range(width):\n",
    "            lines = []\n",
    "            for i in range(pixel_length):\n",
    "                cells = []\n",
    "                for j in range(pixel_length):\n",
    "                    cells.append(my_band[i + IMAGE_PIXEL * x][j + IMAGE_PIXEL * y])\n",
    "                lines.append(cells)\n",
    "            columns.append(lines)\n",
    "        result.append(columns)\n",
    "    return result"
   ]
  },
  {
   "cell_type": "code",
   "execution_count": null,
   "metadata": {},
   "outputs": [],
   "source": [
    "def predict(bands, model, output_path=\"output\", output_name=\"prédiction_multiple\"):\n",
    "    \"\"\"Crée l'image de sortie en rgb (r:café, b:poivre, g:autre)\"\"\"\n",
    "    images = []\n",
    "    width = None\n",
    "    height = None\n",
    "    crs = None\n",
    "    transform = None\n",
    "    dtype = None\n",
    "    for band in bands:\n",
    "        image = rasterio.open(band, driver='JP2OpenJPEG')\n",
    "        images.append(split_band(image, IMAGE_WIDTH, IMAGE_PIXEL))\n",
    "        if width == None:\n",
    "            width = image.width\n",
    "            height = image.height\n",
    "            crs = image.crs\n",
    "            transform = image.transform\n",
    "            dtype = image.dtypes[0]\n",
    "        image.close()\n",
    "        print(\"Fin\", band)\n",
    "    prediction_coffee = []\n",
    "    prediction_pepper = []\n",
    "    prediction_other = []\n",
    "    for x in range(IMAGE_WIDTH):\n",
    "        row_prediction_coffee = []\n",
    "        row_prediction_pepper = []\n",
    "        row_prediction_other = []\n",
    "        for y in range(IMAGE_WIDTH):\n",
    "            smaller_image = []\n",
    "            for image in images:\n",
    "                smaller_image.append(image[x][y])\n",
    "            value = model.predict(np.expand_dims(reshape(smaller_image, BAND_WIDTH), axis=0))\n",
    "            for i in range(IMAGE_PIXEL):\n",
    "                row_prediction_other.append(value[0][0] * 65535)\n",
    "                row_prediction_pepper.append(value[0][1] * 65535)\n",
    "                row_prediction_coffee.append(value[0][2] * 65535)\n",
    "        for i in range(IMAGE_PIXEL):\n",
    "            prediction_coffee.append(np.array(row_prediction_coffee).astype('uint16'))\n",
    "            prediction_pepper.append(np.array(row_prediction_pepper).astype('uint16'))\n",
    "            prediction_other.append(np.array(row_prediction_other).astype('uint16'))\n",
    "    output = rasterio.open(output_path + '/' + output_name + '.tiff', 'w', driver='Gtiff', \n",
    "                          width=width, height=height, count=3, crs=crs, \n",
    "                          transform=transform, \n",
    "                          dtype=dtype)\n",
    "    output.write(prediction_pepper, 3)\n",
    "    output.write(prediction_other, 2)\n",
    "    output.write(prediction_coffee, 1)\n",
    "    output.close()\n",
    "    print(\"Le fichier de prédiction a été créé.\")"
   ]
  },
  {
   "cell_type": "code",
   "execution_count": null,
   "metadata": {
    "scrolled": true
   },
   "outputs": [],
   "source": [
    "predict(bands, model=model, output_path=\"output\", output_name=\"multi_Recommandation6\")"
   ]
  },
  {
   "cell_type": "code",
   "execution_count": null,
   "metadata": {},
   "outputs": [],
   "source": []
  }
 ],
 "metadata": {
  "kernelspec": {
   "display_name": "Python 3",
   "language": "python",
   "name": "python3"
  },
  "language_info": {
   "codemirror_mode": {
    "name": "ipython",
    "version": 3
   },
   "file_extension": ".py",
   "mimetype": "text/x-python",
   "name": "python",
   "nbconvert_exporter": "python",
   "pygments_lexer": "ipython3",
   "version": "3.7.7"
  }
 },
 "nbformat": 4,
 "nbformat_minor": 4
}
