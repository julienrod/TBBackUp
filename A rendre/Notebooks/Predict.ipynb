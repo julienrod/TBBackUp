{
 "cells": [
  {
   "cell_type": "markdown",
   "metadata": {},
   "source": [
    "## Importer le modèle"
   ]
  },
  {
   "cell_type": "code",
   "execution_count": null,
   "metadata": {},
   "outputs": [],
   "source": [
    "from keras.models import load_model\n",
    "import numpy as np\n",
    "model = load_model('../modèles_assez_bons/2020.07.06/model3.h5')\n",
    "# summarize model.\n",
    "model.summary()"
   ]
  },
  {
   "cell_type": "markdown",
   "metadata": {},
   "source": [
    "## Importer l'image"
   ]
  },
  {
   "cell_type": "code",
   "execution_count": null,
   "metadata": {},
   "outputs": [],
   "source": [
    "import rasterio\n",
    "image_path = '../Données/S2A_MSIL2A_20190227T030651_N0211_R075_T48PYU_20190227T083207/S2A_MSIL2A_20190227T030651_N0211_R075_T48PYU_20190227T083207.SAFE/GRANULE/L2A_T48PYU_A019234_20190227T031435/IMG_DATA/R10m/T48PYU_20190227T030651_'"
   ]
  },
  {
   "cell_type": "code",
   "execution_count": null,
   "metadata": {},
   "outputs": [],
   "source": [
    "IMAGE_PIXEL = 15\n",
    "IMAGE_WIDTH = 732\n",
    "BAND_WIDTH = 4"
   ]
  },
  {
   "cell_type": "code",
   "execution_count": null,
   "metadata": {},
   "outputs": [],
   "source": [
    "def reshape(image):\n",
    "    reshaped_image = []\n",
    "    for i in range(len(image[0])):\n",
    "        reshaped_row = []\n",
    "        for j in range(len(image[0][0])):\n",
    "            reshaped_cell = []\n",
    "            #rajouter / 65535\n",
    "            reshaped_cell.append(image[0][i][j] / 65535)\n",
    "            reshaped_cell.append(image[1][i][j] / 65535)\n",
    "            reshaped_cell.append(image[2][i][j] / 65535)\n",
    "            reshaped_cell.append(image[3][i][j] / 65535)\n",
    "            reshaped_row.append(reshaped_cell)\n",
    "        reshaped_image.append(reshaped_row)\n",
    "    return reshaped_image"
   ]
  },
  {
   "cell_type": "code",
   "execution_count": null,
   "metadata": {},
   "outputs": [],
   "source": [
    "def split_band(band):\n",
    "    \"\"\"Split une bande de Sentinel-2 en bande plus petite\n",
    "    2 916 images de 20x20\"\"\"\n",
    "    result = []\n",
    "    my_band = band.read(1)\n",
    "    for x in range(IMAGE_WIDTH):\n",
    "        columns = []\n",
    "        for y in range(IMAGE_WIDTH):\n",
    "            lines = []\n",
    "            for i in range(IMAGE_PIXEL):\n",
    "                cells = []\n",
    "                for j in range(IMAGE_PIXEL):\n",
    "                    cells.append(my_band[i + IMAGE_PIXEL * x][j + IMAGE_PIXEL * y])\n",
    "                lines.append(cells)\n",
    "            columns.append(lines)\n",
    "        result.append(columns)\n",
    "    return result"
   ]
  },
  {
   "cell_type": "markdown",
   "metadata": {},
   "source": [
    "## Faire la prédiction"
   ]
  },
  {
   "cell_type": "code",
   "execution_count": null,
   "metadata": {},
   "outputs": [],
   "source": [
    "def predict(image_path, output_path, model, type='rg+ir'):\n",
    "    \"\"\"Créée l'image de sortie en noir et blanc\"\"\"\n",
    "    if type not in ['rgb+ir', 'rgb']:\n",
    "        print(\"Les seuls types disponibles sont 'rgb' et 'rg+ir'.\")\n",
    "        return\n",
    "    blue = rasterio.open(image_path+'B02_10m.jp2', driver='JP2OpenJPEG') #blue\n",
    "    green = rasterio.open(image_path+'B03_10m.jp2', driver='JP2OpenJPEG') #green\n",
    "    red = rasterio.open(image_path+'B04_10m.jp2', driver='JP2OpenJPEG') #red\n",
    "    infra_red = rasterio.open(image_path+'B08_10m.jp2', driver='JP2OpenJPEG') #near impact\n",
    "    smaller_blue = None\n",
    "    smaller_infra_red = None\n",
    "    smaller_blue = split_band(blue)\n",
    "    print(\"Fin bande bleue\")\n",
    "    smaller_green = split_band(green)\n",
    "    print(\"Fin bande verte\")\n",
    "    smaller_red = split_band(red)\n",
    "    print(\"Fin bande rouge\")\n",
    "    smaller_infra_red = split_band(infra_red)\n",
    "    print(\"Fin bande infra rouge\")\n",
    "    prediction = []\n",
    "    prediction_len = set()\n",
    "    for x in range(IMAGE_WIDTH):\n",
    "        row_prediction = []\n",
    "        for y in range(IMAGE_WIDTH):\n",
    "            smaller_image = []\n",
    "            smaller_image.append(smaller_infra_red[x][y])\n",
    "            smaller_image.append(smaller_red[x][y])\n",
    "            smaller_image.append(smaller_green[x][y])\n",
    "            smaller_image.append(smaller_blue[x][y])\n",
    "            value = model.predict(np.expand_dims(reshape(smaller_image), axis=0))\n",
    "            prediction_len.add(value[0][0] * 65535)\n",
    "            for i in range(IMAGE_PIXEL):\n",
    "                row_prediction.append(value[0][0] * 65535)\n",
    "                \n",
    "        for i in range(IMAGE_PIXEL):\n",
    "            prediction.append(np.array(row_prediction).astype('uint16'))\n",
    "    output = rasterio.open(output_path + '_prediction.tiff', 'w', driver='Gtiff', \n",
    "                          width=red.width, height=red.height, count=1, crs=red.crs, \n",
    "                          transform=red.transform, \n",
    "                          dtype=red.dtypes[0])\n",
    "    output.write(prediction, 1)\n",
    "    output.close()\n",
    "    print(\"Le fichier de prédiction a été créé.\")"
   ]
  },
  {
   "cell_type": "code",
   "execution_count": null,
   "metadata": {
    "scrolled": true
   },
   "outputs": [],
   "source": [
    "predict(image_path, \"output\", model, type='rgb')"
   ]
  },
  {
   "cell_type": "code",
   "execution_count": null,
   "metadata": {},
   "outputs": [],
   "source": []
  }
 ],
 "metadata": {
  "kernelspec": {
   "display_name": "Python 3",
   "language": "python",
   "name": "python3"
  },
  "language_info": {
   "codemirror_mode": {
    "name": "ipython",
    "version": 3
   },
   "file_extension": ".py",
   "mimetype": "text/x-python",
   "name": "python",
   "nbconvert_exporter": "python",
   "pygments_lexer": "ipython3",
   "version": "3.7.7"
  }
 },
 "nbformat": 4,
 "nbformat_minor": 4
}
