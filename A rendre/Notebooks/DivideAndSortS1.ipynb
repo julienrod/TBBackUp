{
 "cells": [
  {
   "cell_type": "code",
   "execution_count": null,
   "metadata": {},
   "outputs": [],
   "source": [
    "import rasterio\n",
    "import affine\n",
    "from rasterio import plot\n",
    "import numpy as np\n",
    "import shapefile\n",
    "from math import sqrt\n",
    "import os\n",
    "np.seterr(divide='ignore', invalid='ignore') #Il se peut qu'il y ait des divisions par 0, numpy retourne 0 dans ces cas.\n"
   ]
  },
  {
   "cell_type": "code",
   "execution_count": null,
   "metadata": {},
   "outputs": [],
   "source": [
    "IMAGE_PIXEL = 30\n",
    "DEFAULT = \"not_labeled\"\n",
    "S1DIRECTORY = \"output/sentinel1Simple\"\n",
    "output_filename = 'tile_'"
   ]
  },
  {
   "cell_type": "code",
   "execution_count": null,
   "metadata": {
    "scrolled": false
   },
   "outputs": [],
   "source": [
    "vh = rasterio.open('S1Spring/measurement/s1a-iw-grd-vh-20200408t223649-20200408t223714-032042-03b3ce-002.tiff') \n",
    "vv = rasterio.open('S1Spring/measurement/s1a-iw-grd-vv-20200408t223649-20200408t223714-032042-03b3ce-001.tiff')"
   ]
  },
  {
   "cell_type": "code",
   "execution_count": null,
   "metadata": {},
   "outputs": [],
   "source": [
    "def get_vectors(gcp_top_right, gcp_top_left, gcp_bottom_right, gcp_bottom_left):\n",
    "    norm_v1 = (gcp_top_left.col - gcp_top_right.col)\n",
    "    v1 = np.array([(gcp_top_right.x - gcp_top_left.x + gcp_bottom_right.x - gcp_bottom_left.x) / (2 * norm_v1),\n",
    "         (gcp_top_right.y - gcp_top_left.y + gcp_bottom_right.y - gcp_bottom_left.y) / (2 * norm_v1)])\n",
    "    norm_v2 = (gcp_bottom_right.row - gcp_top_right.row)\n",
    "    v2 = np.array([(gcp_top_right.x - gcp_bottom_right.x + gcp_top_left.x - gcp_bottom_left.x) / (2 * norm_v2),\n",
    "         (gcp_top_right.y - gcp_bottom_right.y + gcp_top_left.y - gcp_bottom_left.y) / (2 * norm_v2)])\n",
    "    return v1, v2"
   ]
  },
  {
   "cell_type": "code",
   "execution_count": null,
   "metadata": {},
   "outputs": [],
   "source": [
    "def make_blue(vv, vh):\n",
    "    return (vv + vh // 2) // vh "
   ]
  },
  {
   "cell_type": "code",
   "execution_count": null,
   "metadata": {},
   "outputs": [],
   "source": [
    "def split_band(band, length, width):\n",
    "    \"\"\"Split une bande de Sentinel-1 en bande plus petite\"\"\"\n",
    "    result = []\n",
    "    for x in range(length):\n",
    "        columns = []\n",
    "        for y in range(width):\n",
    "            lines = []\n",
    "            for i in range(IMAGE_PIXEL):\n",
    "                cells = []\n",
    "                for j in range(IMAGE_PIXEL):\n",
    "                    cells.append(band[i + IMAGE_PIXEL * x][j + IMAGE_PIXEL * y])\n",
    "                lines.append(cells)\n",
    "            columns.append(lines)\n",
    "        result.append(columns)\n",
    "    return result"
   ]
  },
  {
   "cell_type": "code",
   "execution_count": null,
   "metadata": {},
   "outputs": [],
   "source": [
    "from rasterio import transform\n",
    "def create_temp_image(vh, vv, name=\"temp\"):\n",
    "    \"\"\"Créée une image avec toutes les bandes avant le découpage en image plus petites\"\"\"\n",
    "    \n",
    "    gcps, gcp_crs = vv.gcps\n",
    "    \n",
    "    temp = rasterio.open('output/' + str(name) + '.tiff', 'w', driver='Gtiff', \n",
    "                          width=len(vh.read(1)[0]), height=len(vh.read(1)), count=12, crs=gcp_crs, gcps=gcps,\n",
    "                          transform=vh.transform,\n",
    "                          dtype=vh.dtypes[0]\n",
    "                         )\n",
    "    \n",
    "    temp.write(make_blue(np.array(vv.read(1)), np.array(vh.read(1))), 3)\n",
    "    temp.write(vh.read(1), 2)\n",
    "    temp.write(vv.read(1), 1)\n",
    "    print(\"Fichier tiff créé.\")"
   ]
  },
  {
   "cell_type": "code",
   "execution_count": null,
   "metadata": {
    "scrolled": true
   },
   "outputs": [],
   "source": [
    "from rasterio import transform\n",
    "_, gcp_crs = vv.gcps\n",
    "dtype = vh.dtypes[0]\n",
    "transform = vh.transform\n",
    "\n",
    "create_temp_image(vh, vv, name=\"TempSimple\")"
   ]
  },
  {
   "cell_type": "code",
   "execution_count": null,
   "metadata": {
    "scrolled": false
   },
   "outputs": [],
   "source": [
    "import gdal\n",
    "\n",
    "\n",
    "\n",
    "in_file = 'output/TempSimple.tiff'\n",
    "\n",
    "ds = gdal.Open(in_file)\n",
    "band = ds.GetRasterBand(1)\n",
    "\n",
    "xsize = band.XSize\n",
    "ysize = band.YSize\n",
    "if not os.path.isdir(S1DIRECTORY):\n",
    "    os.mkdir(S1DIRECTORY)\n",
    "if not os.path.isdir(S1DIRECTORY + \"/\" + DEFAULT):\n",
    "        os.mkdir(S1DIRECTORY + \"/\" + DEFAULT)\n",
    "for i in range(0, ysize, IMAGE_PIXEL):\n",
    "    if not os.path.isdir(S1DIRECTORY + \"/\" + DEFAULT + \"/\" + str(int(i/IMAGE_PIXEL))):\n",
    "        os.mkdir(S1DIRECTORY + \"/\" + DEFAULT + \"/\" + str(int(i/IMAGE_PIXEL)))\n",
    "        \n",
    "    print(i)\n",
    "    for j in range(0, xsize, IMAGE_PIXEL):\n",
    "        com_string = \"gdal_translate -of GTIFF -srcwin \" + str(j) + \", \" + str(i) + \", \" + str(IMAGE_PIXEL) + \\\n",
    "            \", \" + str(IMAGE_PIXEL) + \" \" + str(in_file) + \" \" + str(S1DIRECTORY) + \"/\" + DEFAULT + \"/\" + \\\n",
    "            str(int(i/IMAGE_PIXEL)) + \"/\" + str(output_filename) + str(int(i/IMAGE_PIXEL)) + \"_\" + \\\n",
    "            str(int(j/IMAGE_PIXEL)) + \".tiff\"\n",
    "        os.system(com_string)"
   ]
  },
  {
   "cell_type": "code",
   "execution_count": null,
   "metadata": {},
   "outputs": [],
   "source": [
    "import shapefile\n",
    "import math"
   ]
  },
  {
   "cell_type": "code",
   "execution_count": null,
   "metadata": {},
   "outputs": [],
   "source": [
    "LIST_SHAPEFILES = [\"heigvd/central_highlands_2_other/central_highlands_2_other.shp\",\n",
    "                  \"heigvd/central_highlands_2_test/central_highlands_2_test.shp\",\n",
    "                  \"heigvd/central_higlands_1_other/central_higlands_1_other.shp\"]\n",
    "CORRESPONDANCES = {\"1\":\"cacao\", \"2\":\"coffee\",\"3\":\"complex_oil\", \"4\":\"nativevege\", \"5\":\"oil_palm\", \"6\":\"rubber\", \"7\":\"unknown\", \n",
    "                 \"8\":\"seasonal\", \"9\":\"urban\", \"10\":\"water\", \"11\":\"other_tree\", \"12\":\"other_no_tree\", \"13\":\"native_no_tree\",\n",
    "                 \"14\":\"water_other\", \"15\":\"pepper\", \"16\":\"cassava\", \"17\":\"tea\", \"18\":\"rice\", \"19\":\"banana\", \"20\":\"baby_palm\", \n",
    "                 \"21\":\"cur_off-regrow\", \"22\":\"natural_wetland\", \"23\":\"intercrop\", \"24\":\"deciduous_forest\", \"25\":\"stick_pepper\", \n",
    "                 \"26\":\"flooded_plantation\", \"27\":\"pine_trees\", \"28\":\"coconut\", \"29\":\"banboo\", \"30\":\"savana\", \"31\":\"mango\", \n",
    "                 \"32\":\"other_fruit_tree_crop\", \"33\":\"water_mine\", \"0\":\"not_labeled\", \"-1\":\"ambiguous\"}"
   ]
  },
  {
   "cell_type": "code",
   "execution_count": null,
   "metadata": {},
   "outputs": [],
   "source": [
    "points = []\n",
    "for path in LIST_SHAPEFILES:\n",
    "    sf = shapefile.Reader(path)\n",
    "    shapes = sf.shapes()\n",
    "    for point in sf.records():\n",
    "        points.append((shapes[point.oid].points[0], point[0]))"
   ]
  },
  {
   "cell_type": "code",
   "execution_count": null,
   "metadata": {},
   "outputs": [],
   "source": [
    "def XY_to_LM_init(px, py):\n",
    "    \"\"\"Crée deux vecteurs servant à voir si une coordonnée se trouve dans l'image ou non (réutilisation du labo5 de VTK)\"\"\"\n",
    "    A = np.array([[1, 0, 0, 0],\n",
    "                  [1, 1, 0, 0],\n",
    "                  [1, 1, 1, 1],\n",
    "                  [1, 0, 1, 0]])\n",
    "\n",
    "    AI = np.linalg.inv(A)\n",
    "    a = np.dot(AI, px)\n",
    "    b = np.dot(AI, py)\n",
    "    return a, b"
   ]
  },
  {
   "cell_type": "code",
   "execution_count": null,
   "metadata": {},
   "outputs": [],
   "source": [
    "def XY_to_LM(latitude, longitude, a, b):\n",
    "    \"\"\"Retourne l et m, si l et m sont entre 0 et 1 alors la coordonnée donnée est dans le\n",
    "    carré (réutilisation du labo5 de VTK)\"\"\"\n",
    "    aa = a[3] * b[2] - a[2] * b[3]\n",
    "    bb = a[3] * b[0] - a[0] * b[3] + a[1] * b[2] - a[2] * b[1] + longitude * b[3] - latitude * a[3]\n",
    "    cc = a[1] * b[0] - a[0] * b[1] + longitude * b[1] - latitude * a[1]\n",
    "    det = math.sqrt(bb * bb - 4 * aa * cc)\n",
    "    m = (-bb + det) / (2 * aa)\n",
    "    l = (longitude - a[0] - a[2] * m) / (a[1] + a[3] * m)\n",
    "    return l, m"
   ]
  },
  {
   "cell_type": "code",
   "execution_count": null,
   "metadata": {},
   "outputs": [],
   "source": [
    "def get_labels(image):\n",
    "    \"\"\"Donne tous les labels contenu dans une image de Sentinel-1\"\"\"\n",
    "    corners = get_corners(image)\n",
    "    labels = set()\n",
    "    px = np.array([corners[\"bl\"][0], corners[\"br\"][0], corners[\"tr\"][0], corners[\"tl\"][0]])\n",
    "    py = np.array([corners[\"bl\"][1], corners[\"br\"][1], corners[\"tr\"][1], corners[\"tl\"][1]])\n",
    "    a, b = XY_to_LM_init(px, py)\n",
    "    #A cause de la précision des floats, il arrive bien souvent que le dernier vecteur soit mis à 0\n",
    "    #ce qui rend la localisation infaisable (retournera nan au lieu d'un float)\n",
    "    if a[3] != 0 and b[3] != 0: \n",
    "        for point in points:\n",
    "            l, m = XY_to_LM(point[0][1], point[0][0], a, b)\n",
    "            if 0 <= l <= 1 and 0 <= m <= 1:\n",
    "                labels.add(point[1])\n",
    "    else: #Si problème de précision, on fait une approximation\n",
    "        for point in points:\n",
    "            if ((corners[\"bl\"][0] + corners[\"tl\"][0]) / 2) < point[0][0] < ((corners[\"br\"][0] + corners[\"tr\"][0]) / 2) and \\\n",
    "                ((corners[\"bl\"][1] + corners[\"br\"][1]) / 2) < point[0][1] < ((corners[\"tl\"][1] + corners[\"tr\"][1]) / 2):\n",
    "                labels.add(point[1])\n",
    "    return labels"
   ]
  },
  {
   "cell_type": "code",
   "execution_count": null,
   "metadata": {},
   "outputs": [],
   "source": [
    "def get_corners(image):\n",
    "    gcps, _ = image.gcps\n",
    "    #Calcul des gcps voisins\n",
    "    gcp_top_right, gcp_top_left, gcp_bottom_right, gcp_bottom_left = None, None, None, None\n",
    "    for gcp in gcps:\n",
    "        if gcp.row <= 0 and gcp.col <= 0:\n",
    "            gcp_top_right = gcp\n",
    "        elif gcp.row <= 0 and gcp.col >= IMAGE_PIXEL and (gcp_top_left == None or gcp_top_left.col >= gcp.col):\n",
    "            gcp_top_left = gcp\n",
    "        elif gcp.row >= IMAGE_PIXEL and gcp.col <= 0 and (gcp_bottom_right == None or gcp_bottom_right.row >= gcp.row):\n",
    "            gcp_bottom_right = gcp\n",
    "        elif gcp.row >= IMAGE_PIXEL and gcp.col >= IMAGE_PIXEL:\n",
    "            gcp_bottom_left = gcp\n",
    "            break\n",
    "        \n",
    "    #Pour les cas en bordure\n",
    "    if gcp_bottom_left == None:\n",
    "        gcp_bottom_left = gcps[-1]\n",
    "    if gcp_bottom_right == None or gcp_top_left == None:\n",
    "        for gcp in gcps:\n",
    "            if gcp.row == gcp_top_right.row and gcp.col == gcp_bottom_left.col:\n",
    "                gcp_top_left = gcp\n",
    "            elif gcp.row == gcp_bottom_left.row and gcp.col == gcp_top_right.col:\n",
    "                gcp_bottom_right = gcp\n",
    "            if gcp_bottom_right != None and gcp_top_left != None:\n",
    "                break\n",
    "    #Calcul des vecteurs\n",
    "    v1, v2 = get_vectors(gcp_top_right, gcp_top_left, gcp_bottom_right, gcp_bottom_left)\n",
    "    #Calcul des coins\n",
    "    top_right = (np.array([gcp_top_right.x, gcp_top_right.y]) + gcp_top_right.col * v1) + gcp_top_right.row * v2\n",
    "    top_left = top_right - IMAGE_PIXEL * v1\n",
    "    bottom_right = top_right - IMAGE_PIXEL * v2\n",
    "    bottom_left = bottom_right - IMAGE_PIXEL * v1\n",
    "    return {\"tr\":top_right, \"tl\":top_left, \"br\":bottom_right, \"bl\":bottom_left}"
   ]
  },
  {
   "cell_type": "code",
   "execution_count": null,
   "metadata": {},
   "outputs": [],
   "source": [
    "for _, directory in CORRESPONDANCES.items():\n",
    "    if not os.path.isdir(S1DIRECTORY + \"/\" + directory):\n",
    "        os.mkdir(S1DIRECTORY + \"/\" + directory)\n",
    "if not os.path.isdir(S1DIRECTORY + \"/\" + CORRESPONDANCES[\"-1\"] + \"/coffee_pepper\"):\n",
    "    os.mkdir(S1DIRECTORY + \"/\" + CORRESPONDANCES[\"-1\"] + \"/coffee_pepper\")\n",
    "if not os.path.isdir(S1DIRECTORY + \"/\" + CORRESPONDANCES[\"-1\"] + \"/coffee\"):\n",
    "    os.mkdir(S1DIRECTORY + \"/\" + CORRESPONDANCES[\"-1\"] + \"/coffee\")\n",
    "if not os.path.isdir(S1DIRECTORY + \"/\" + CORRESPONDANCES[\"-1\"] + \"/pepper\"):\n",
    "    os.mkdir(S1DIRECTORY + \"/\" + CORRESPONDANCES[\"-1\"] + \"/pepper\")\n",
    "if not os.path.isdir(S1DIRECTORY + \"/\" + CORRESPONDANCES[\"-1\"] + \"/other\"):\n",
    "    os.mkdir(S1DIRECTORY + \"/\" + CORRESPONDANCES[\"-1\"] + \"/other\")"
   ]
  },
  {
   "cell_type": "code",
   "execution_count": null,
   "metadata": {
    "scrolled": true
   },
   "outputs": [],
   "source": [
    "for directory in os.listdir(S1DIRECTORY + \"/\" + DEFAULT):\n",
    "    print(directory)\n",
    "    if os.path.isdir(S1DIRECTORY + \"/\" + DEFAULT + \"/\" + directory):\n",
    "        for file in os.listdir(S1DIRECTORY + \"/\" + DEFAULT + \"/\" + directory):\n",
    "            if file.endswith(\".tiff\") and os.path.isfile(S1DIRECTORY + \"/\" + DEFAULT + \"/\" + directory + \"/\" + file):\n",
    "                labels = get_labels(rasterio.open(S1DIRECTORY + \"/\" + DEFAULT + \"/\" + directory + \"/\" + file))\n",
    "                if len(labels) == 1:\n",
    "                    os.rename(S1DIRECTORY + \"/\" + DEFAULT + \"/\" + directory + \"/\" + file, \n",
    "                              S1DIRECTORY + \"/\" + CORRESPONDANCES[str(next(iter(labels)))] + \"/\" + file) \n",
    "                elif len(labels) > 1:\n",
    "                    if len(labels) > 10:\n",
    "                        print(\"Error\", labels)\n",
    "                        break\n",
    "                    if 2 in labels and (15 in labels or 25 in labels):\n",
    "                        os.rename(S1DIRECTORY + \"/\" + DEFAULT + \"/\" + directory + \"/\" + file, \n",
    "                              S1DIRECTORY + \"/\" + CORRESPONDANCES[\"-1\"] + \"/coffee_pepper/\" + file)\n",
    "                    elif 2 in labels:\n",
    "                        os.rename(S1DIRECTORY + \"/\" + DEFAULT + \"/\" + directory + \"/\" + file, \n",
    "                              S1DIRECTORY + \"/\" + CORRESPONDANCES[\"-1\"] + \"/coffee/\" + file)\n",
    "                    elif 15 in labels or 25 in labels:\n",
    "                        os.rename(S1DIRECTORY + \"/\" + DEFAULT + \"/\" + directory + \"/\" + file, \n",
    "                              S1DIRECTORY + \"/\" + CORRESPONDANCES[\"-1\"] + \"/pepper/\" + file)\n",
    "                    else :\n",
    "                        os.rename(S1DIRECTORY + \"/\" + DEFAULT + \"/\" + directory + \"/\" + file, \n",
    "                              S1DIRECTORY + \"/\" + CORRESPONDANCES[\"-1\"] + \"/other/\" + file)"
   ]
  },
  {
   "cell_type": "code",
   "execution_count": null,
   "metadata": {},
   "outputs": [],
   "source": []
  }
 ],
 "metadata": {
  "kernelspec": {
   "display_name": "Python 3",
   "language": "python",
   "name": "python3"
  },
  "language_info": {
   "codemirror_mode": {
    "name": "ipython",
    "version": 3
   },
   "file_extension": ".py",
   "mimetype": "text/x-python",
   "name": "python",
   "nbconvert_exporter": "python",
   "pygments_lexer": "ipython3",
   "version": "3.7.7"
  }
 },
 "nbformat": 4,
 "nbformat_minor": 4
}
