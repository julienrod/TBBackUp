{
 "cells": [
  {
   "cell_type": "code",
   "execution_count": null,
   "metadata": {},
   "outputs": [],
   "source": [
    "import rasterio\n",
    "import affine\n",
    "from rasterio import plot\n",
    "import numpy as np\n",
    "import shapefile\n",
    "from math import sqrt\n",
    "import os\n",
    "from decimal import *\n",
    "os.environ['CUDA_VISIBLE_DEVICES']='1'\n",
    "np.seterr(divide='ignore', invalid='ignore') #Il se peut qu'il y ait des divisions par 0, numpy retourne 0 dans ces cas."
   ]
  },
  {
   "cell_type": "code",
   "execution_count": null,
   "metadata": {},
   "outputs": [],
   "source": [
    "IMAGE_PIXEL = 30\n",
    "DEFAULT = \"not_labeled\"\n",
    "S1DIRECTORY = \"output/sentinel1v2\"\n",
    "S1NAME = \"tile_\""
   ]
  },
  {
   "cell_type": "code",
   "execution_count": null,
   "metadata": {
    "scrolled": false
   },
   "outputs": [],
   "source": [
    "bands = ['../Données/S1Spring/measurement/s1a-iw-grd-vv-20200408t223649-20200408t223714-032042-03b3ce-001.tiff',\n",
    "         '../Données/S1Spring/measurement/s1a-iw-grd-vh-20200408t223649-20200408t223714-032042-03b3ce-002.tiff',\n",
    "         '../Données/S1Summer/measurement/s1a-iw-grd-vv-20200713t223654-20200713t223719-033442-03e00d-001.tiff',\n",
    "         '../Données/S1Summer/measurement/s1a-iw-grd-vh-20200713t223654-20200713t223719-033442-03e00d-002.tiff',\n",
    "         '../Données/S1Fall/measurement/s1a-iw-grd-vv-20191011t223652-20191011t223717-029417-035883-001.tiff',\n",
    "         '../Données/S1Fall/measurement/s1a-iw-grd-vh-20191011t223652-20191011t223717-029417-035883-002.tiff',\n",
    "         '../Données/S1Winter/measurement/s1a-iw-grd-vv-20200115t223649-20200115t223714-030817-038911-001.tiff',\n",
    "         '../Données/S1Winter/measurement/s1a-iw-grd-vh-20200115t223649-20200115t223714-030817-038911-002.tiff'\n",
    "        ]\n",
    "bands_for_blue = ['../Données/S1Spring/measurement/s1a-iw-grd-vh-20200408t223649-20200408t223714-032042-03b3ce-002.tiff',\n",
    "                  '../Données/S1Summer/measurement/s1a-iw-grd-vh-20200713t223654-20200713t223719-033442-03e00d-002.tiff',\n",
    "                  '../Données/S1Fall/measurement/s1a-iw-grd-vh-20191011t223652-20191011t223717-029417-035883-002.tiff',\n",
    "                  '../Données/S1Winter/measurement/s1a-iw-grd-vh-20200115t223649-20200115t223714-030817-038911-002.tiff']"
   ]
  },
  {
   "cell_type": "code",
   "execution_count": null,
   "metadata": {},
   "outputs": [],
   "source": [
    "import shapefile\n",
    "import math"
   ]
  },
  {
   "cell_type": "code",
   "execution_count": null,
   "metadata": {},
   "outputs": [],
   "source": [
    "LIST_SHAPEFILES = [\"../Données/heigvd/central_highlands_2_other/central_highlands_2_other.shp\",\n",
    "                  \"../Données/heigvd/central_highlands_2_test/central_highlands_2_test.shp\",\n",
    "                  \"../Données/heigvd/central_higlands_1_other/central_higlands_1_other.shp\"]\n",
    "CORRESPONDANCES = {\"1\":\"cacao\", \"2\":\"coffee\",\"3\":\"complex_oil\", \"4\":\"nativevege\", \"5\":\"oil_palm\", \"6\":\"rubber\", \"7\":\"unknown\", \n",
    "                 \"8\":\"seasonal\", \"9\":\"urban\", \"10\":\"water\", \"11\":\"other_tree\", \"12\":\"other_no_tree\", \"13\":\"native_no_tree\",\n",
    "                 \"14\":\"water_other\", \"15\":\"pepper\", \"16\":\"cassava\", \"17\":\"tea\", \"18\":\"rice\", \"19\":\"banana\", \"20\":\"baby_palm\", \n",
    "                 \"21\":\"cur_off-regrow\", \"22\":\"natural_wetland\", \"23\":\"intercrop\", \"24\":\"deciduous_forest\", \"25\":\"stick_pepper\", \n",
    "                 \"26\":\"flooded_plantation\", \"27\":\"pine_trees\", \"28\":\"coconut\", \"29\":\"banboo\", \"30\":\"savana\", \"31\":\"mango\", \n",
    "                 \"32\":\"other_fruit_tree_crop\", \"33\":\"water_mine\", \"0\":\"not_labeled\", \"-1\":\"ambiguous\"}"
   ]
  },
  {
   "cell_type": "code",
   "execution_count": null,
   "metadata": {},
   "outputs": [],
   "source": [
    "points = []\n",
    "for path in LIST_SHAPEFILES:\n",
    "    sf = shapefile.Reader(path)\n",
    "    shapes = sf.shapes()\n",
    "    for point in sf.records():\n",
    "        points.append((shapes[point.oid].points[0], point[0]))"
   ]
  },
  {
   "cell_type": "code",
   "execution_count": null,
   "metadata": {},
   "outputs": [],
   "source": [
    "import SentinelFonction as sf\n",
    "def get_corners(gcps):\n",
    "    #Calcul des gcps voisins\n",
    "    gcp_top_right, gcp_top_left, gcp_bottom_right, gcp_bottom_left = None, None, None, None\n",
    "    for gcp in gcps:\n",
    "        if gcp.row <= 0 and gcp.col <= 0:\n",
    "            gcp_top_right = gcp\n",
    "        elif gcp.row <= 0 and gcp.col >= IMAGE_PIXEL and (gcp_top_left == None or gcp_top_left.col >= gcp.col):\n",
    "            gcp_top_left = gcp\n",
    "        elif gcp.row >= IMAGE_PIXEL and gcp.col <= 0 and (gcp_bottom_right == None or gcp_bottom_right.row >= gcp.row):\n",
    "            gcp_bottom_right = gcp\n",
    "        elif gcp.row >= IMAGE_PIXEL and gcp.col >= IMAGE_PIXEL:\n",
    "            gcp_bottom_left = gcp\n",
    "            break\n",
    "        \n",
    "    #Pour les cas en bordure\n",
    "    if gcp_bottom_left == None:\n",
    "        gcp_bottom_left = gcps[-1]\n",
    "    if gcp_bottom_right == None or gcp_top_left == None:\n",
    "        for gcp in gcps:\n",
    "            if gcp.row == gcp_top_right.row and gcp.col == gcp_bottom_left.col:\n",
    "                gcp_top_left = gcp\n",
    "            elif gcp.row == gcp_bottom_left.row and gcp.col == gcp_top_right.col:\n",
    "                gcp_bottom_right = gcp\n",
    "            if gcp_bottom_right != None and gcp_top_left != None:\n",
    "                break\n",
    "    #Calcul des vecteurs\n",
    "    v1, v2 = sf.get_vectors(gcp_top_right, gcp_top_left, gcp_bottom_right, gcp_bottom_left)\n",
    "    #Calcul des coins\n",
    "    top_right = (np.array([Decimal(gcp_top_right.x), Decimal(gcp_top_right.y)]) - \n",
    "                 Decimal(gcp_top_right.col) * v1) - Decimal(gcp_top_right.row) * v2\n",
    "    top_left = top_right + Decimal(IMAGE_PIXEL) * v1\n",
    "    bottom_right = top_right + Decimal(IMAGE_PIXEL) * v2\n",
    "    bottom_left = bottom_right + Decimal(IMAGE_PIXEL) * v1\n",
    "    return {\"tr\":top_right, \"tl\":top_left, \"br\":bottom_right, \"bl\":bottom_left}"
   ]
  },
  {
   "cell_type": "code",
   "execution_count": null,
   "metadata": {},
   "outputs": [],
   "source": [
    "def translate_gcps(gcps, image_pixel=30, x=0, y=0):\n",
    "    result = []\n",
    "    for gcp in gcps:\n",
    "        result.append(rasterio.control.GroundControlPoint(row=gcp.row - x * image_pixel, col=gcp.col - y * image_pixel, \n",
    "                                                          x=gcp.x, y=gcp.y, id=gcp.id))\n",
    "    return result"
   ]
  },
  {
   "cell_type": "code",
   "execution_count": null,
   "metadata": {},
   "outputs": [],
   "source": [
    "import sys\n",
    "from sympy import symbols, Eq, solve\n",
    "def get_labels(gcps):\n",
    "    \"\"\"Donne tous les labels contenu dans une image de Sentinel-1\"\"\"\n",
    "    corners = get_corners(gcps)\n",
    "    labels = set()\n",
    "    v1, v2 = sf.get_simple_vectors(corners[\"tr\"], corners[\"tl\"], corners[\"br\"], corners[\"bl\"])\n",
    "    min_x = min([corners[\"tr\"][0], corners[\"tl\"][0], corners[\"br\"][0], corners[\"bl\"][0]])\n",
    "    max_x = max([corners[\"tr\"][0], corners[\"tl\"][0], corners[\"br\"][0], corners[\"bl\"][0]])\n",
    "    min_y = min([corners[\"tr\"][1], corners[\"tl\"][1], corners[\"br\"][1], corners[\"bl\"][1]])\n",
    "    max_y = max([corners[\"tr\"][1], corners[\"tl\"][1], corners[\"br\"][1], corners[\"bl\"][1]])\n",
    "    for point in points:\n",
    "        if min_y <= Decimal(point[0][1]) <= max_y and min_x <= Decimal(point[0][0]) <= max_x:\n",
    "            u1, u2 = symbols('u1 u2')\n",
    "            eq1 = Eq(corners[\"tr\"][0] + u1*float(v1[0]) + u2*float(v2[0]) - point[0][0], 0)\n",
    "            eq2 = Eq(corners[\"tr\"][1] + u1*float(v1[1]) + u2*float(v2[1]) - point[0][1], 0)\n",
    "            sol = solve((eq1, eq2),(u1, u2))\n",
    "            if 0 <= sol[u1] <= 1 and 0 <= sol[u2] <= 1:\n",
    "                labels.add(point[1])\n",
    "    return labels"
   ]
  },
  {
   "cell_type": "code",
   "execution_count": null,
   "metadata": {},
   "outputs": [],
   "source": [
    "from rasterio import transform\n",
    "def create_smaller_images(bands, bands_for_blue=None, path_name='output', file_name='tile', labeled_only=False):\n",
    "    \"\"\"Créée des images plus petites pouvant être mieux traitées par le réseau de neurones et les classes dans le bon dossier\n",
    "    selon s'il existe des positions déjà labelée dans le dossier (ambigious si plusieurs, not_labeled si pas de coordonnées)\"\"\"\n",
    "    images, images_for_blue, width, height, crs, transformFix, dtype, count, gcps = \\\n",
    "                                        sf.harmonize_s1bands(bands, bands_for_blue, image_pixel=IMAGE_PIXEL)\n",
    "    if not os.path.isdir(path_name):\n",
    "        os.mkdir(path_name)\n",
    "    for _, directory in CORRESPONDANCES.items():\n",
    "        if not os.path.isdir(path_name + \"/\" + directory):\n",
    "            os.mkdir(path_name + \"/\" + directory)\n",
    "    if not os.path.isdir(path_name + \"/\" + CORRESPONDANCES['-1'] + \"/coffee_pepper\"):\n",
    "        os.mkdir(path_name + \"/\" + CORRESPONDANCES['-1'] + \"/coffee_pepper\") \n",
    "    if not os.path.isdir(path_name + \"/\" + CORRESPONDANCES['-1'] + \"/coffee\"):\n",
    "        os.mkdir(path_name + \"/\" + CORRESPONDANCES['-1'] + \"/coffee\") \n",
    "    if not os.path.isdir(path_name + \"/\" + CORRESPONDANCES['-1'] + \"/pepper\"):\n",
    "        os.mkdir(path_name + \"/\" + CORRESPONDANCES['-1'] + \"/pepper\") \n",
    "    if not os.path.isdir(path_name + \"/\" + CORRESPONDANCES['-1'] + \"/other\"):\n",
    "        os.mkdir(path_name + \"/\" + CORRESPONDANCES['-1'] + \"/other\") \n",
    "    for x in range((height // IMAGE_PIXEL) + 1):\n",
    "        for y in range((width // IMAGE_PIXEL) + 1):\n",
    "            begin = transformFix * (y * IMAGE_PIXEL,x * IMAGE_PIXEL)\n",
    "            transform = affine.Affine(10.0, 0, begin[0], 0.0, -10.0, begin[1])\n",
    "            this_gcps = translate_gcps(gcps, IMAGE_PIXEL, x, y)\n",
    "            #Trie selon s'il y a des points déjà répertorié dans le fichier.\n",
    "            labels = get_labels(this_gcps)\n",
    "            image_name = path_name + \"/\"\n",
    "            if len(labels) == 0:\n",
    "                if labeled_only:\n",
    "                    continue\n",
    "                if not os.path.exists(path_name + \"/\" + CORRESPONDANCES['0'] + \"/\" + str(x)):\n",
    "                    os.mkdir(path_name + \"/\" + CORRESPONDANCES['0'] + \"/\" + str(x))\n",
    "                image_name += CORRESPONDANCES['0'] + \"/\" + str(x) + \"/\"\n",
    "            elif len(labels) > 1:\n",
    "                if 2 in labels and (15 in labels or 25 in labels):\n",
    "                    image_name += CORRESPONDANCES['-1'] + \"/coffee_pepper/\" \n",
    "                elif 2 in labels:\n",
    "                    image_name += CORRESPONDANCES['-1'] + \"/other/\" \n",
    "                elif 15 in labels or 25 in labels:\n",
    "                    image_name += CORRESPONDANCES['-1'] + \"/pepper/\" \n",
    "                else :\n",
    "                    image_name += CORRESPONDANCES['-1'] + \"/other/\" \n",
    "            else:\n",
    "                image_name += CORRESPONDANCES[str(next(iter(labels)))] + \"/\"\n",
    "            image_name += file_name\n",
    "            smaller_image = rasterio.open(image_name + '_' + str(x) + '_' + str(y) \\\n",
    "                                              + '.tiff', 'w', driver='Gtiff', \n",
    "                          width=IMAGE_PIXEL, height=IMAGE_PIXEL, count=count, crs=crs, \n",
    "                          gcps=this_gcps, transform=transform, \n",
    "                          dtype=dtype\n",
    "                         )\n",
    "            cpt = 1\n",
    "            for i in range(len(images)):\n",
    "                smaller_image.write(images[i][x][y], cpt)\n",
    "                cpt += 1\n",
    "                if bands_for_blue != None:\n",
    "                    smaller_image.write(images_for_blue[i][x][y], cpt)\n",
    "                    cpt += 1\n",
    "                    smaller_image.write(make_blue(images[i][x][y], images_for_blue[i][x][y]), cpt)\n",
    "                    cpt += 1\n",
    "            smaller_image.close()\n",
    "        print(str(x + 1) + \"/\" + str((height //IMAGE_PIXEL) + 1))\n",
    "    print(\"Fichiers tiff créés.\")"
   ]
  },
  {
   "cell_type": "code",
   "execution_count": null,
   "metadata": {
    "scrolled": false
   },
   "outputs": [],
   "source": [
    "create_smaller_images(bands, path_name=S1DIRECTORY, file_name=S1NAME, labeled_only=True)"
   ]
  },
  {
   "cell_type": "markdown",
   "metadata": {},
   "source": [
    " "
   ]
  },
  {
   "cell_type": "code",
   "execution_count": null,
   "metadata": {},
   "outputs": [],
   "source": []
  }
 ],
 "metadata": {
  "kernelspec": {
   "display_name": "Python 3",
   "language": "python",
   "name": "python3"
  },
  "language_info": {
   "codemirror_mode": {
    "name": "ipython",
    "version": 3
   },
   "file_extension": ".py",
   "mimetype": "text/x-python",
   "name": "python",
   "nbconvert_exporter": "python",
   "pygments_lexer": "ipython3",
   "version": "3.7.7"
  }
 },
 "nbformat": 4,
 "nbformat_minor": 4
}
