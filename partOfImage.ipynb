{
 "cells": [
  {
   "cell_type": "code",
   "execution_count": 1,
   "metadata": {},
   "outputs": [],
   "source": [
    "import rasterio\n",
    "import affine\n",
    "from rasterio import plot\n",
    "import matplotlib.pyplot as plt\n",
    "%matplotlib inline"
   ]
  },
  {
   "cell_type": "code",
   "execution_count": 2,
   "metadata": {},
   "outputs": [],
   "source": [
    "IMAGE_PIXEL = 90\n",
    "IMAGE_WIDTH = 122"
   ]
  },
  {
   "cell_type": "code",
   "execution_count": 2,
   "metadata": {
    "scrolled": false
   },
   "outputs": [],
   "source": [
    "imagePath = '../Données/S2A_MSIL2A_20190227T030651_N0211_R075_T48PYU_20190227T083207/S2A_MSIL2A_20190227T030651_N0211_R075_T48PYU_20190227T083207.SAFE/GRANULE/L2A_T48PYU_A019234_20190227T031435/IMG_DATA/R10m/T48PYU_20190227T030651_'\n",
    "band2 = rasterio.open(imagePath+'B02_10m.jp2', driver='JP2OpenJPEG') #blue\n",
    "band3 = rasterio.open(imagePath+'B03_10m.jp2', driver='JP2OpenJPEG') #green\n",
    "band4 = rasterio.open(imagePath+'B04_10m.jp2', driver='JP2OpenJPEG') #red\n",
    "band8 = rasterio.open(imagePath+'B08_10m.jp2', driver='JP2OpenJPEG') #near impact"
   ]
  },
  {
   "cell_type": "code",
   "execution_count": 4,
   "metadata": {},
   "outputs": [],
   "source": [
    "def split_band(band):\n",
    "    \"\"\"Split une bande de Sentinel-2 en bande plus petite\n",
    "    2 916 images de 20x20\"\"\"\n",
    "    result = []\n",
    "    my_band = band.read(1)\n",
    "    for x in range(IMAGE_WIDTH):\n",
    "        columns = []\n",
    "        for y in range(IMAGE_WIDTH):\n",
    "            lines = []\n",
    "            for i in range(IMAGE_PIXEL):\n",
    "                cells = []\n",
    "                for j in range(IMAGE_PIXEL):\n",
    "                    cells.append(my_band[i + IMAGE_PIXEL * x][j + IMAGE_PIXEL * y])\n",
    "                lines.append(cells)\n",
    "            columns.append(lines)\n",
    "        result.append(columns)\n",
    "    return result"
   ]
  },
  {
   "cell_type": "code",
   "execution_count": 5,
   "metadata": {},
   "outputs": [],
   "source": [
    "def create_smaller_images(blue, green, red, infra_red, rgb_name, rir_name):\n",
    "    \"\"\"Créée des images plus petites pouvant être mieux traitées par le réseau de neurones\"\"\"\n",
    "    smaller_blue = split_band(blue)\n",
    "    print(\"Fin bande bleue\")\n",
    "    smaller_green = split_band(green)\n",
    "    print(\"Fin bande verte\")\n",
    "    smaller_red = split_band(red)\n",
    "    print(\"Fin bande rouge\")\n",
    "    smaller_infra_red = split_band(infra_red)\n",
    "    print(\"Fin bande infra rouge\")\n",
    "    for x in range(IMAGE_WIDTH):\n",
    "        for y in range(IMAGE_WIDTH):\n",
    "            chang = blue.transform * (y * IMAGE_PIXEL,x * IMAGE_PIXEL) #Pas trouvé mieux pour l'instant\n",
    "            transform = affine.Affine(10.0, 0, chang[0], 0.0, -10.0, chang[1])\n",
    "            smaller_image_rgb = rasterio.open(rgb_name + '_' + str(x) + '_' + str(y) + '.tiff', 'w', driver='Gtiff', \n",
    "                          width=IMAGE_PIXEL, height=IMAGE_PIXEL, count=3, crs=blue.crs, \n",
    "                          transform=transform, \n",
    "                          dtype=blue.dtypes[0]\n",
    "                         )\n",
    "            smaller_image_rgb.write(smaller_blue[x][y], 3)\n",
    "            smaller_image_rgb.write(smaller_green[x][y], 2)\n",
    "            smaller_image_rgb.write(smaller_red[x][y], 1)\n",
    "            smaller_image_rgb.close()\n",
    "            smaller_image_rir = rasterio.open(rir_name + '_' + str(x) + '_' + str(y) + '.tiff', 'w', driver='Gtiff', \n",
    "                          width=IMAGE_PIXEL, height=IMAGE_PIXEL, count=3, crs=red.crs, \n",
    "                          transform=transform, \n",
    "                          dtype=red.dtypes[0]\n",
    "                         )\n",
    "            smaller_image_rir.write(smaller_green[x][y], 3)\n",
    "            smaller_image_rir.write(smaller_red[x][y], 2)\n",
    "            smaller_image_rir.write(smaller_infra_red[x][y], 1)\n",
    "            smaller_image_rir.close()\n",
    "    print(\"Fichiers tiff créés.\")"
   ]
  },
  {
   "cell_type": "code",
   "execution_count": 6,
   "metadata": {},
   "outputs": [],
   "source": [
    "create_smaller_images(band2, band3, band4, band8, \"output/sais_pas_gauche/rgb/gauche\", \"output/cafe_gauche/rir/gauche\")"
   ]
  },
  {
   "cell_type": "code",
   "execution_count": 4,
   "metadata": {},
   "outputs": [
    {
     "name": "stdout",
     "output_type": "stream",
     "text": [
      "[[[   0    0    0 ... 1462 1540 1746]\n",
      "  [   0    0    0 ... 1354 1462 1664]\n",
      "  [   0    0    0 ... 1466 1522 1899]\n",
      "  ...\n",
      "  [2620 2438 2396 ... 1692 1888 1810]\n",
      "  [2912 2575 2532 ... 1779 2189 2218]\n",
      "  [2654 2420 2486 ... 1785 2213 2363]]]\n",
      "[[[   0    0    0 ...  739  805  862]\n",
      "  [   0    0    0 ...  650  789  792]\n",
      "  [   0    0    0 ...  653  928  773]\n",
      "  ...\n",
      "  [ 464  464  516 ... 1090  952  988]\n",
      "  [ 455  459  440 ...  765  689  791]\n",
      "  [ 444  464  453 ...  807  733  840]]]\n",
      "[[[  0   0   0 ... 579 621 686]\n",
      "  [  0   0   0 ... 543 598 609]\n",
      "  [  0   0   0 ... 570 818 630]\n",
      "  ...\n",
      "  [638 619 638 ... 579 598 544]\n",
      "  [653 631 610 ... 479 510 548]\n",
      "  [615 614 626 ... 511 546 631]]]\n",
      "[[[1529 1582 1577 ...  230  578  964]\n",
      "  [1762 1799 1854 ...  210  270  490]\n",
      "  [2099 2088 2070 ...  195  203  199]\n",
      "  ...\n",
      "  [2065 2064 2021 ... 1692 1888 1810]\n",
      "  [1952 1933 1888 ... 1779 2189 2218]\n",
      "  [1789 1768 1815 ... 1785 2213 2363]]\n",
      "\n",
      " [[1080 1098 1108 ...  697  733 1050]\n",
      "  [1208 1238 1274 ...  738  698  778]\n",
      "  [1368 1348 1352 ...  742  690  644]\n",
      "  ...\n",
      "  [ 382  456  470 ... 1090  952  988]\n",
      "  [ 477  512  505 ...  765  689  791]\n",
      "  [ 610  613  545 ...  807  733  840]]\n",
      "\n",
      " [[ 840  845  836 ...  611  543  578]\n",
      "  [ 982  983 1009 ...  642  567  543]\n",
      "  [1168 1160 1134 ...  659  624  564]\n",
      "  ...\n",
      "  [ 399  412  449 ...  579  598  544]\n",
      "  [ 427  456  462 ...  479  510  548]\n",
      "  [ 505  492  460 ...  511  546  631]]]\n"
     ]
    }
   ],
   "source": [
    "petite_bande = rasterio.open('outputsaispas/sais_pas_gauche/rir/gauche_121_121.tiff', driver='Gtiff')\n",
    "print(band8.read())\n",
    "print(band4.read())\n",
    "print(band3.read())\n",
    "print(petite_bande.read())"
   ]
  },
  {
   "cell_type": "code",
   "execution_count": null,
   "metadata": {},
   "outputs": [],
   "source": []
  }
 ],
 "metadata": {
  "kernelspec": {
   "display_name": "Python 3",
   "language": "python",
   "name": "python3"
  },
  "language_info": {
   "codemirror_mode": {
    "name": "ipython",
    "version": 3
   },
   "file_extension": ".py",
   "mimetype": "text/x-python",
   "name": "python",
   "nbconvert_exporter": "python",
   "pygments_lexer": "ipython3",
   "version": "3.7.7"
  }
 },
 "nbformat": 4,
 "nbformat_minor": 4
}
