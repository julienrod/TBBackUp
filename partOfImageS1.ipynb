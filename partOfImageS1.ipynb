{
 "cells": [
  {
   "cell_type": "code",
   "execution_count": 1,
   "metadata": {},
   "outputs": [],
   "source": [
    "import rasterio\n",
    "import affine\n",
    "from rasterio import plot\n",
    "import matplotlib.pyplot as plt\n",
    "import numpy as np\n",
    "np.seterr(divide='ignore', invalid='ignore') #Il se peut qu'il y ait des divisions par 0, numpy retourne 0 dans ces cas.\n",
    "%matplotlib inline"
   ]
  },
  {
   "cell_type": "code",
   "execution_count": 2,
   "metadata": {},
   "outputs": [],
   "source": [
    "IMAGE_PIXEL = 90"
   ]
  },
  {
   "cell_type": "code",
   "execution_count": 3,
   "metadata": {
    "scrolled": false
   },
   "outputs": [
    {
     "name": "stderr",
     "output_type": "stream",
     "text": [
      "c:\\ihm\\miniconda\\envs\\env_tb\\lib\\site-packages\\rasterio\\__init__.py:219: NotGeoreferencedWarning: Dataset has no geotransform set. The identity matrix may be returned.\n",
      "  s = DatasetReader(path, driver=driver, sharing=sharing, **kwargs)\n"
     ]
    }
   ],
   "source": [
    "imagePath = '../Données/S1B_IW_GRDH_1SDV_20200414T223607_20200414T223641_021146_028202_F368.SAFE/measurement/'\n",
    "vh = rasterio.open(imagePath+'s1b-iw-grd-vh-20200414t223607-20200414t223641-021146-028202-002.tiff', driver='Gtiff') \n",
    "vv = rasterio.open(imagePath+'s1b-iw-grd-vv-20200414t223607-20200414t223641-021146-028202-001.tiff', driver='Gtiff')"
   ]
  },
  {
   "cell_type": "code",
   "execution_count": 4,
   "metadata": {},
   "outputs": [],
   "source": [
    "def make_blue(vv, vh):\n",
    "    return (vv + vh // 2) // vh "
   ]
  },
  {
   "cell_type": "code",
   "execution_count": 5,
   "metadata": {},
   "outputs": [],
   "source": [
    "def split_band(band, length, width):\n",
    "    \"\"\"Split une bande de Sentinel-1 en bande plus petite\"\"\"\n",
    "    result = []\n",
    "    for x in range(length):\n",
    "        columns = []\n",
    "        for y in range(width):\n",
    "            lines = []\n",
    "            for i in range(IMAGE_PIXEL):\n",
    "                cells = []\n",
    "                for j in range(IMAGE_PIXEL):\n",
    "                    cells.append(band[i + IMAGE_PIXEL * x][j + IMAGE_PIXEL * y])\n",
    "                lines.append(cells)\n",
    "            columns.append(lines)\n",
    "        result.append(columns)\n",
    "    return result"
   ]
  },
  {
   "cell_type": "code",
   "execution_count": 6,
   "metadata": {
    "scrolled": true
   },
   "outputs": [],
   "source": [
    "#No merit : https://stackoverflow.com/questions/20677795/how-do-i-compute-the-intersection-point-of-two-lines\n",
    "def line(p1, p2):\n",
    "    A = (p1[1] - p2[1])\n",
    "    B = (p2[0] - p1[0])\n",
    "    C = (p1[0]*p2[1] - p2[0]*p1[1])\n",
    "    return A, B, -C\n",
    "\n",
    "def intersection(L1, L2):\n",
    "    D  = L1[0] * L2[1] - L1[1] * L2[0]\n",
    "    Dx = L1[2] * L2[1] - L1[1] * L2[2]\n",
    "    Dy = L1[0] * L2[2] - L1[2] * L2[0]\n",
    "    x = Dx / D\n",
    "    y = Dy / D\n",
    "    return x,y\n",
    "\n",
    "def get_gcps(gcps, x, y):\n",
    "    start_x = IMAGE_PIXEL * x\n",
    "    start_y = IMAGE_PIXEL * y\n",
    "    base_coordinates = {}\n",
    "    print(start_x, start_y)\n",
    "    for gcp in gcps:\n",
    "        if gcp.row <= start_y and gcp.col <= start_x:\n",
    "            base_coordinates['tl'] = gcp\n",
    "        elif gcp.row <= start_y and gcp.col >= start_x + IMAGE_PIXEL and (not 'tr' in base_coordinates or\n",
    "                                                                             base_coordinates['tr'].row < gcp.row):\n",
    "            base_coordinates['tr'] = gcp\n",
    "        elif gcp.row >= start_y + IMAGE_PIXEL and gcp.col <= start_x and (not 'bl' in base_coordinates or\n",
    "                                                                             base_coordinates['bl'].col < gcp.col):\n",
    "            base_coordinates['bl'] = gcp\n",
    "        elif gcp.row >= start_y + IMAGE_PIXEL and gcp.col >= start_x + IMAGE_PIXEL and not 'br' in base_coordinates:\n",
    "            base_coordinates['br'] = gcp\n",
    "        if all(key in base_coordinates for key in ['tl', 'tr', 'bl', 'br']):\n",
    "            break\n",
    "    print(base_coordinates)\n",
    "    result = []\n",
    "    id = 0\n",
    "    print(start_x, start_y)\n",
    "    for coordonnee_x in range(start_x, start_x + IMAGE_PIXEL  + 1):\n",
    "        for coordonnee_y in range(start_y, start_y + IMAGE_PIXEL + 1):\n",
    "            bt_col = coordonnee_x - base_coordinates['tl'].col\n",
    "            ratio_col = base_coordinates['tr'].col - base_coordinates['tl'].col\n",
    "            bt_x1 = base_coordinates['tl'].x + (base_coordinates['tr'].x - base_coordinates['tl'].x) * bt_col/ratio_col\n",
    "            bt_y1 = base_coordinates['tl'].y + (base_coordinates['tr'].y - base_coordinates['tl'].y) * bt_col/ratio_col\n",
    "\n",
    "            bt_x2 = base_coordinates['bl'].x + (base_coordinates['br'].x - base_coordinates['bl'].x) * bt_col/ratio_col\n",
    "            bt_y2 = base_coordinates['bl'].y + (base_coordinates['br'].y - base_coordinates['bl'].y) * bt_col/ratio_col\n",
    "\n",
    "            vector_col = (bt_x2 - bt_x1, bt_y2 - bt_y1)\n",
    "            ratio_col = vector_col[1] * bt_x1 + vector_col[0] * bt_y1\n",
    "\n",
    "            bt_row = coordonnee_y - base_coordinates['tl'].row\n",
    "            ratio_row = base_coordinates['bl'].row - base_coordinates['tl'].row\n",
    "            bt_x3 = base_coordinates['tl'].x + (base_coordinates['bl'].x - base_coordinates['tl'].x) * bt_row/ratio_row\n",
    "            bt_y3 = base_coordinates['tl'].y + (base_coordinates['bl'].y - base_coordinates['tl'].y) * bt_col/ratio_row\n",
    "\n",
    "            bt_x4 = base_coordinates['tr'].x + (base_coordinates['br'].x - base_coordinates['tr'].x) * bt_row/ratio_row\n",
    "            bt_y4 = base_coordinates['tr'].y + (base_coordinates['br'].y - base_coordinates['tr'].y) * bt_row/ratio_row\n",
    "\n",
    "            L1 = line([bt_x1, bt_y1], [bt_x2, bt_y2])\n",
    "            L2 = line([bt_x3, bt_y3], [bt_x4, bt_y4])\n",
    "\n",
    "            x, y = intersection(L1, L2)\n",
    "\n",
    "            id += 1\n",
    "            result.append(rasterio.control.GroundControlPoint(row=coordonnee_x - start_y, col=coordonnee_y - start_x, \n",
    "                                                              x=x, y=y, id=id))\n",
    "    return result"
   ]
  },
  {
   "cell_type": "code",
   "execution_count": 7,
   "metadata": {},
   "outputs": [],
   "source": [
    "import datetime\n",
    "from rasterio import transform\n",
    "def create_rgb_image(vv, vh, gcps, gcp_crs, dtype='uint16', \n",
    "                          name=datetime.datetime.now().strftime(\"%Y-%m-%d_%H:%M:%S\")):\n",
    "    \"\"\"Créée des images plus petites pouvant être mieux traitées par le réseau de neurones\"\"\"\n",
    "    #image_length = len(vv) // IMAGE_PIXEL\n",
    "    #image_width = len(vv[0]) // IMAGE_PIXEL\n",
    "    #smaller_vv = split_band(vv, image_length, image_width)\n",
    "    #print(\"Fin bande verte\")\n",
    "    #smaller_vh = split_band(vh, image_length, image_width)\n",
    "    #print(\"Fin bande rouge\")\n",
    "    #for x in [0, 279]:\n",
    "    #    for y in [0, 252]:\n",
    "    #        chang = transform.from_gcps(gcps) * (y * IMAGE_PIXEL,x * IMAGE_PIXEL) #Pas trouvé mieux pour l'instant\n",
    "    #        transformer = affine.Affine(10.0, 0, chang[0], 0.0, -10.0, chang[1])\n",
    "    #        smaller_image= rasterio.open(name + '_' + str(x) + '_' + str(y) + '.tiff', 'w', driver='Gtiff', \n",
    "    #                      width=IMAGE_PIXEL, height=IMAGE_PIXEL, count=3, crs=gcp_crs, gcps=get_gcps(gcps, x, y),\n",
    "    #                      #transform=transformer, \n",
    "    #                      dtype=dtype\n",
    "    #                     )\n",
    "    #        smaller_image.write(make_blue(np.array(smaller_vv[x][y]), np.array(smaller_vh[x][y])), 3)\n",
    "    #        smaller_image.write(smaller_vh[x][y], 2)\n",
    "    #        smaller_image.write(smaller_vv[x][y], 1)\n",
    "    #        smaller_image.close()\n",
    "    #        print(\"fin\", x, y)\n",
    "    print(len(vh[0]))\n",
    "    print(len(vv))\n",
    "    temp = rasterio.open('output/' + str(name) + '.tiff', 'w', driver='Gtiff', \n",
    "                          width=len(vh[0]), height=len(vv), count=3, crs=gcp_crs, gcps=gcps,\n",
    "                          dtype=dtype\n",
    "                         )\n",
    "    temp.write(make_blue(np.array(vv), np.array(vh)), 3)\n",
    "    temp.write(vh, 2)\n",
    "    temp.write(vv, 1)\n",
    "    print(\"Fichier tiff créé.\")"
   ]
  },
  {
   "cell_type": "code",
   "execution_count": 8,
   "metadata": {
    "scrolled": true
   },
   "outputs": [
    {
     "name": "stdout",
     "output_type": "stream",
     "text": [
      "22738 58\n",
      "25118 8\n",
      "25118\n",
      "22738\n"
     ]
    },
    {
     "name": "stderr",
     "output_type": "stream",
     "text": [
      "c:\\ihm\\miniconda\\envs\\env_tb\\lib\\site-packages\\rasterio\\__init__.py:229: NotGeoreferencedWarning: Dataset has no geotransform set. The identity matrix may be returned.\n",
      "  **kwargs)\n"
     ]
    },
    {
     "name": "stdout",
     "output_type": "stream",
     "text": [
      "Fichier tiff créé.\n"
     ]
    }
   ],
   "source": [
    "from rasterio import transform\n",
    "_vv = vv.read(1)\n",
    "gcps, gcp_crs = vv.gcps\n",
    "print(vv.height, vv.height % IMAGE_PIXEL)\n",
    "vv.close()\n",
    "del vv\n",
    "_vh = vh.read(1)\n",
    "dtype = vh.dtypes[0]\n",
    "print(vh.width, vh.width % IMAGE_PIXEL)\n",
    "vh.close()\n",
    "del vh\n",
    "\n",
    "create_rgb_image(_vv, _vh, gcps, gcp_crs, dtype, name=\"TempRGB\")"
   ]
  },
  {
   "cell_type": "code",
   "execution_count": 9,
   "metadata": {},
   "outputs": [],
   "source": [
    "import os, gdal\n",
    "\n",
    "out_path = 'output/sentinel1/'\n",
    "output_filename = 'tile_'\n",
    "\n",
    "in_file = 'output/TempRGB.tiff'\n",
    "\n",
    "tile_size_x = IMAGE_PIXEL\n",
    "tile_size_y = IMAGE_PIXEL\n",
    "\n",
    "ds = gdal.Open(in_file)\n",
    "band = ds.GetRasterBand(1)\n",
    "xsize = band.XSize\n",
    "ysize = band.YSize\n",
    "\n",
    "for i in range(0, xsize, tile_size_x):\n",
    "    for j in range(0, ysize, tile_size_y):\n",
    "        com_string = \"gdal_translate -of GTIFF -srcwin \" + str(i) + \", \" + str(j) + \", \" + str(tile_size_x) + \\\n",
    "            \", \" + str(tile_size_y) + \" \" + str(in_file) + \" \" + str(out_path) + str(output_filename) + \\\n",
    "            str(int(i/IMAGE_PIXEL)) + \"_\" + str(int(j/IMAGE_PIXEL)) + \".tiff\"\n",
    "        os.system(com_string)"
   ]
  },
  {
   "cell_type": "code",
   "execution_count": null,
   "metadata": {},
   "outputs": [],
   "source": []
  }
 ],
 "metadata": {
  "kernelspec": {
   "display_name": "Python 3",
   "language": "python",
   "name": "python3"
  },
  "language_info": {
   "codemirror_mode": {
    "name": "ipython",
    "version": 3
   },
   "file_extension": ".py",
   "mimetype": "text/x-python",
   "name": "python",
   "nbconvert_exporter": "python",
   "pygments_lexer": "ipython3",
   "version": "3.7.7"
  }
 },
 "nbformat": 4,
 "nbformat_minor": 4
}
