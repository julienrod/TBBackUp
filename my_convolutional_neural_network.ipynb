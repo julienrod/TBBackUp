{
 "cells": [
  {
   "cell_type": "code",
   "execution_count": 7,
   "metadata": {},
   "outputs": [],
   "source": [
    "LIST_OF_DIRECTORIES = [\"output/cafe_bas/rir\", \"output/cafe_droite/rir\", \"output/cafe_gauche/rir\", \"output/cafe_haut/rir\",\n",
    "                       \"output/cafe_milieu/rir\", \"output/pas_cafe_bas/rir\", \"output/pas_cafe_droite/rir\", \n",
    "                       \"output/pas_cafe_gauche/rir\", \"output/pas_cafe_haut/rir\", \"output/pas_cafe_milieu/rir\"]\n",
    "COUNTAIN_START = \"output/cafe_\"\n",
    "PIXEL_LENGTH = 90\n",
    "BAND_WIDTH = 3\n",
    "NB_SPLIT = 5\n",
    "EPOCH = 120\n"
   ]
  },
  {
   "cell_type": "markdown",
   "metadata": {},
   "source": [
    "# Première étape : charger les données\n",
    "\n",
    "Importer le nom des données"
   ]
  },
  {
   "cell_type": "code",
   "execution_count": 8,
   "metadata": {},
   "outputs": [],
   "source": [
    "import os \n",
    "import numpy as np\n",
    "import random\n",
    "import rasterio\n",
    "from sklearn.model_selection import StratifiedKFold\n",
    "import os\n",
    "os.environ['CUDA_VISIBLE_DEVICES']='1'"
   ]
  },
  {
   "cell_type": "code",
   "execution_count": 9,
   "metadata": {},
   "outputs": [],
   "source": [
    "images_name = []\n",
    "for directory in LIST_OF_DIRECTORIES:\n",
    "    for filename in os.listdir(directory): \n",
    "        images_name.append(directory + \"/\" + filename)\n",
    "random.shuffle(images_name)"
   ]
  },
  {
   "cell_type": "code",
   "execution_count": 10,
   "metadata": {},
   "outputs": [],
   "source": [
    "def reshape(image):\n",
    "    reshaped_image = []\n",
    "    for i in range(len(image[0])):\n",
    "        reshaped_row = []\n",
    "        for j in range(len(image[0][0])):\n",
    "            reshaped_cell = []\n",
    "            reshaped_cell.append(image[0][i][j])\n",
    "            reshaped_cell.append(image[1][i][j])\n",
    "            reshaped_cell.append(image[2][i][j])\n",
    "            reshaped_row.append(reshaped_cell)\n",
    "        reshaped_image.append(reshaped_row)\n",
    "    return reshaped_image"
   ]
  },
  {
   "cell_type": "markdown",
   "metadata": {},
   "source": [
    "Importer les images et leur résultat voulu"
   ]
  },
  {
   "cell_type": "code",
   "execution_count": 11,
   "metadata": {},
   "outputs": [
    {
     "ename": "NameError",
     "evalue": "name 'image_x' is not defined",
     "output_type": "error",
     "traceback": [
      "\u001b[1;31m---------------------------------------------------------------------------\u001b[0m",
      "\u001b[1;31mNameError\u001b[0m                                 Traceback (most recent call last)",
      "\u001b[1;32m<ipython-input-11-e182e755b61d>\u001b[0m in \u001b[0;36m<module>\u001b[1;34m\u001b[0m\n\u001b[0;32m      9\u001b[0m \u001b[0mimages_x\u001b[0m \u001b[1;33m=\u001b[0m \u001b[0mnp\u001b[0m\u001b[1;33m.\u001b[0m\u001b[0marray\u001b[0m\u001b[1;33m(\u001b[0m\u001b[0mimages_x\u001b[0m\u001b[1;33m)\u001b[0m\u001b[1;33m\u001b[0m\u001b[1;33m\u001b[0m\u001b[0m\n\u001b[0;32m     10\u001b[0m \u001b[0mimages_y\u001b[0m \u001b[1;33m=\u001b[0m \u001b[0mnp\u001b[0m\u001b[1;33m.\u001b[0m\u001b[0marray\u001b[0m\u001b[1;33m(\u001b[0m\u001b[0mimages_y\u001b[0m\u001b[1;33m)\u001b[0m\u001b[1;33m\u001b[0m\u001b[1;33m\u001b[0m\u001b[0m\n\u001b[1;32m---> 11\u001b[1;33m \u001b[0mprint\u001b[0m\u001b[1;33m(\u001b[0m\u001b[0mlen\u001b[0m\u001b[1;33m(\u001b[0m\u001b[0mimage_x\u001b[0m\u001b[1;33m)\u001b[0m\u001b[1;33m)\u001b[0m\u001b[1;33m\u001b[0m\u001b[1;33m\u001b[0m\u001b[0m\n\u001b[0m",
      "\u001b[1;31mNameError\u001b[0m: name 'image_x' is not defined"
     ]
    }
   ],
   "source": [
    "images_x = []\n",
    "images_y = []\n",
    "for image_name in images_name:\n",
    "    images_x.append(reshape(rasterio.open(image_name).read()))\n",
    "    if image_name.startswith(COUNTAIN_START):\n",
    "        images_y.append(1)\n",
    "    else:\n",
    "        images_y.append(0)\n",
    "images_x = np.array(images_x)\n",
    "images_y = np.array(images_y)"
   ]
  },
  {
   "cell_type": "code",
   "execution_count": 12,
   "metadata": {},
   "outputs": [
    {
     "name": "stdout",
     "output_type": "stream",
     "text": [
      "1115\n"
     ]
    }
   ],
   "source": [
    "print(len(images_x))"
   ]
  },
  {
   "cell_type": "markdown",
   "metadata": {},
   "source": [
    "# Deuxième étape : créer notre cross validation"
   ]
  },
  {
   "cell_type": "code",
   "execution_count": 6,
   "metadata": {},
   "outputs": [],
   "source": [
    "from sklearn.model_selection import StratifiedKFold"
   ]
  },
  {
   "cell_type": "code",
   "execution_count": 7,
   "metadata": {},
   "outputs": [
    {
     "name": "stdout",
     "output_type": "stream",
     "text": [
      "1115\n",
      "90\n",
      "90\n",
      "3\n",
      "[3586, 2160, 1274]\n",
      "[[[3586 3298 3682 ... 3654 3506 3550]\n",
      "  [3392 3152 3552 ... 3594 3492 3576]\n",
      "  [3204 3264 3594 ... 3410 3530 3626]\n",
      "  ...\n",
      "  [ 403  411  376 ...  593  595  529]\n",
      "  [ 472  467  408 ...  532  526  485]\n",
      "  [ 490  468  495 ...  491  493  494]]\n",
      "\n",
      " [[2160 1678 2136 ... 2502 2322 2254]\n",
      "  [2080 1788 2318 ... 2626 2228 2382]\n",
      "  [1766 1980 2254 ... 2302 2424 2546]\n",
      "  ...\n",
      "  [ 490  547  539 ...  805  783  787]\n",
      "  [ 595  623  567 ...  723  720  710]\n",
      "  [ 684  646  653 ...  666  660  643]]\n",
      "\n",
      " [[1274 1062 1396 ... 1364 1256 1318]\n",
      "  [1200 1086 1290 ... 1420 1262 1326]\n",
      "  [1062 1228 1416 ... 1304 1348 1350]\n",
      "  ...\n",
      "  [ 901  952  909 ... 1194 1178 1138]\n",
      "  [1013 1009  943 ... 1108 1114 1052]\n",
      "  [1038 1012 1004 ... 1022 1054 1060]]]\n"
     ]
    }
   ],
   "source": [
    "kfold = StratifiedKFold(n_splits=NB_SPLIT)\n",
    "print(images_x.shape)"
   ]
  },
  {
   "cell_type": "markdown",
   "metadata": {},
   "source": [
    "# Troisième étape : entrainer et tester"
   ]
  },
  {
   "cell_type": "code",
   "execution_count": null,
   "metadata": {},
   "outputs": [
    {
     "name": "stdout",
     "output_type": "stream",
     "text": [
      "Epoch 1/120\n",
      "892/892 [==============================] - 125s 140ms/step - loss: 432.8285 - accuracy: 0.5975\n",
      "Epoch 2/120\n",
      "892/892 [==============================] - 125s 140ms/step - loss: 0.6642 - accuracy: 0.6312\n",
      "Epoch 3/120\n",
      "892/892 [==============================] - 125s 141ms/step - loss: 0.6519 - accuracy: 0.6110\n",
      "Epoch 4/120\n",
      "892/892 [==============================] - 125s 140ms/step - loss: 0.6491 - accuracy: 0.6188\n",
      "Epoch 5/120\n",
      "892/892 [==============================] - 124s 140ms/step - loss: 0.6457 - accuracy: 0.6177\n",
      "Epoch 6/120\n",
      "892/892 [==============================] - 123s 137ms/step - loss: 0.6208 - accuracy: 0.6300\n",
      "Epoch 7/120\n",
      "892/892 [==============================] - 122s 137ms/step - loss: 0.6190 - accuracy: 0.6222\n",
      "Epoch 8/120\n",
      "892/892 [==============================] - 122s 137ms/step - loss: 0.6086 - accuracy: 0.6413\n",
      "Epoch 9/120\n",
      "892/892 [==============================] - 122s 137ms/step - loss: 0.6154 - accuracy: 0.6345\n",
      "Epoch 10/120\n",
      "892/892 [==============================] - 127s 142ms/step - loss: 0.6095 - accuracy: 0.6424\n",
      "Epoch 11/120\n",
      "892/892 [==============================] - 124s 139ms/step - loss: 0.6012 - accuracy: 0.6491\n",
      "Epoch 12/120\n",
      "892/892 [==============================] - 124s 139ms/step - loss: 0.6068 - accuracy: 0.6435\n",
      "Epoch 13/120\n",
      "892/892 [==============================] - 124s 139ms/step - loss: 0.5882 - accuracy: 0.6626\n",
      "Epoch 14/120\n",
      "892/892 [==============================] - 124s 139ms/step - loss: 0.5854 - accuracy: 0.6614\n",
      "Epoch 15/120\n",
      "892/892 [==============================] - 125s 140ms/step - loss: 0.5940 - accuracy: 0.6715\n",
      "Epoch 16/120\n",
      "892/892 [==============================] - 122s 137ms/step - loss: 0.6112 - accuracy: 0.6626\n",
      "Epoch 17/120\n",
      "892/892 [==============================] - 122s 137ms/step - loss: 0.5960 - accuracy: 0.6457\n",
      "Epoch 18/120\n",
      "892/892 [==============================] - 122s 137ms/step - loss: 0.5810 - accuracy: 0.6648\n",
      "Epoch 19/120\n",
      "892/892 [==============================] - 122s 137ms/step - loss: 0.5782 - accuracy: 0.6570\n",
      "Epoch 20/120\n",
      "892/892 [==============================] - 122s 137ms/step - loss: 0.5866 - accuracy: 0.6704\n",
      "Epoch 21/120\n",
      "892/892 [==============================] - 122s 137ms/step - loss: 0.5659 - accuracy: 0.6726\n",
      "Epoch 22/120\n",
      "892/892 [==============================] - 122s 137ms/step - loss: 0.5792 - accuracy: 0.6883\n",
      "Epoch 23/120\n",
      "892/892 [==============================] - 122s 137ms/step - loss: 0.5571 - accuracy: 0.6749\n",
      "Epoch 24/120\n",
      "892/892 [==============================] - 122s 137ms/step - loss: 0.5522 - accuracy: 0.6928\n",
      "Epoch 25/120\n",
      "892/892 [==============================] - 122s 137ms/step - loss: 0.5433 - accuracy: 0.7007\n",
      "Epoch 26/120\n",
      "892/892 [==============================] - 122s 137ms/step - loss: 0.5627 - accuracy: 0.6861\n",
      "Epoch 27/120\n",
      "892/892 [==============================] - 122s 137ms/step - loss: 0.5599 - accuracy: 0.6771\n",
      "Epoch 28/120\n",
      "892/892 [==============================] - 123s 138ms/step - loss: 0.5399 - accuracy: 0.6939\n",
      "Epoch 29/120\n",
      "892/892 [==============================] - 123s 137ms/step - loss: 0.5543 - accuracy: 0.6917\n",
      "Epoch 30/120\n",
      "892/892 [==============================] - 123s 137ms/step - loss: 0.5387 - accuracy: 0.6984\n",
      "Epoch 31/120\n",
      "892/892 [==============================] - 122s 137ms/step - loss: 0.5331 - accuracy: 0.7141\n",
      "Epoch 32/120\n",
      "892/892 [==============================] - 122s 137ms/step - loss: 0.5062 - accuracy: 0.7276\n",
      "Epoch 33/120\n",
      "892/892 [==============================] - 122s 137ms/step - loss: 0.5239 - accuracy: 0.7085\n",
      "Epoch 34/120\n",
      "892/892 [==============================] - 122s 137ms/step - loss: 0.5305 - accuracy: 0.7175\n",
      "Epoch 35/120\n",
      "892/892 [==============================] - 122s 137ms/step - loss: 0.5164 - accuracy: 0.7119\n",
      "Epoch 36/120\n",
      "892/892 [==============================] - 122s 137ms/step - loss: 0.5005 - accuracy: 0.7377\n",
      "Epoch 37/120\n",
      "892/892 [==============================] - 122s 137ms/step - loss: 0.5021 - accuracy: 0.7287\n",
      "Epoch 38/120\n",
      "892/892 [==============================] - 122s 137ms/step - loss: 0.4921 - accuracy: 0.7388\n",
      "Epoch 39/120\n",
      "892/892 [==============================] - 122s 137ms/step - loss: 0.4840 - accuracy: 0.7321\n",
      "Epoch 40/120\n",
      "892/892 [==============================] - 122s 137ms/step - loss: 0.5083 - accuracy: 0.7197\n",
      "Epoch 41/120\n",
      "892/892 [==============================] - 122s 137ms/step - loss: 0.4843 - accuracy: 0.7410\n",
      "Epoch 42/120\n",
      "892/892 [==============================] - 122s 137ms/step - loss: 0.4936 - accuracy: 0.7354\n",
      "Epoch 43/120\n",
      "892/892 [==============================] - 122s 137ms/step - loss: 0.5081 - accuracy: 0.7242\n",
      "Epoch 44/120\n",
      "892/892 [==============================] - 122s 137ms/step - loss: 0.5045 - accuracy: 0.7265\n",
      "Epoch 45/120\n",
      "892/892 [==============================] - 122s 137ms/step - loss: 0.4734 - accuracy: 0.7388\n",
      "Epoch 46/120\n",
      "892/892 [==============================] - 122s 137ms/step - loss: 0.4711 - accuracy: 0.7444\n",
      "Epoch 47/120\n",
      "892/892 [==============================] - 122s 137ms/step - loss: 0.4796 - accuracy: 0.7444\n",
      "Epoch 48/120\n",
      "892/892 [==============================] - 122s 137ms/step - loss: 0.5046 - accuracy: 0.7265\n",
      "Epoch 49/120\n",
      "892/892 [==============================] - 122s 137ms/step - loss: 0.4571 - accuracy: 0.7500\n",
      "Epoch 50/120\n",
      "892/892 [==============================] - 122s 137ms/step - loss: 0.4602 - accuracy: 0.7455\n",
      "Epoch 51/120\n",
      "892/892 [==============================] - 122s 137ms/step - loss: 0.4686 - accuracy: 0.7433\n",
      "Epoch 52/120\n",
      "892/892 [==============================] - 123s 137ms/step - loss: 0.4424 - accuracy: 0.7522\n",
      "Epoch 53/120\n",
      "892/892 [==============================] - 122s 137ms/step - loss: 0.4484 - accuracy: 0.7478\n",
      "Epoch 54/120\n",
      "892/892 [==============================] - 123s 138ms/step - loss: 0.4411 - accuracy: 0.7556\n",
      "Epoch 55/120\n",
      "892/892 [==============================] - 122s 137ms/step - loss: 0.4862 - accuracy: 0.7332\n",
      "Epoch 56/120\n",
      "892/892 [==============================] - 122s 137ms/step - loss: 0.4346 - accuracy: 0.7590\n",
      "Epoch 57/120\n",
      "892/892 [==============================] - 124s 139ms/step - loss: 0.4346 - accuracy: 0.7567\n",
      "Epoch 58/120\n",
      "892/892 [==============================] - 127s 143ms/step - loss: 0.4469 - accuracy: 0.7567\n",
      "Epoch 59/120\n",
      "892/892 [==============================] - 123s 138ms/step - loss: 0.4377 - accuracy: 0.7601\n",
      "Epoch 60/120\n",
      "892/892 [==============================] - 122s 137ms/step - loss: 0.4276 - accuracy: 0.7735\n",
      "Epoch 61/120\n",
      "892/892 [==============================] - 122s 137ms/step - loss: 0.4411 - accuracy: 0.7646\n",
      "Epoch 62/120\n",
      "892/892 [==============================] - 122s 137ms/step - loss: 0.4454 - accuracy: 0.7590\n",
      "Epoch 63/120\n",
      "892/892 [==============================] - 123s 137ms/step - loss: 0.4493 - accuracy: 0.7556\n",
      "Epoch 64/120\n",
      "892/892 [==============================] - 122s 137ms/step - loss: 0.4706 - accuracy: 0.7702\n",
      "Epoch 65/120\n",
      "892/892 [==============================] - 122s 137ms/step - loss: 0.6992 - accuracy: 0.5381\n",
      "Epoch 66/120\n",
      "892/892 [==============================] - 123s 137ms/step - loss: 0.7066 - accuracy: 0.5202\n",
      "Epoch 67/120\n",
      "892/892 [==============================] - 122s 137ms/step - loss: 0.7033 - accuracy: 0.5213\n",
      "Epoch 68/120\n",
      "892/892 [==============================] - 122s 137ms/step - loss: 0.6927 - accuracy: 0.5235\n",
      "Epoch 69/120\n",
      "892/892 [==============================] - 122s 137ms/step - loss: 0.6909 - accuracy: 0.5303\n",
      "Epoch 70/120\n",
      "892/892 [==============================] - 122s 137ms/step - loss: 0.6871 - accuracy: 0.5280\n",
      "Epoch 71/120\n",
      "892/892 [==============================] - 122s 137ms/step - loss: 0.6918 - accuracy: 0.5179\n",
      "Epoch 72/120\n",
      "892/892 [==============================] - 122s 137ms/step - loss: 0.6875 - accuracy: 0.5191\n",
      "Epoch 73/120\n",
      "892/892 [==============================] - 122s 137ms/step - loss: 0.6803 - accuracy: 0.5348\n",
      "Epoch 74/120\n",
      "892/892 [==============================] - 123s 138ms/step - loss: 0.6744 - accuracy: 0.5359\n",
      "Epoch 75/120\n",
      "892/892 [==============================] - 122s 137ms/step - loss: 0.6739 - accuracy: 0.5314\n",
      "Epoch 76/120\n",
      "892/892 [==============================] - 122s 137ms/step - loss: 0.6614 - accuracy: 0.5527\n",
      "Epoch 77/120\n",
      "892/892 [==============================] - 122s 137ms/step - loss: 0.6686 - accuracy: 0.5437\n",
      "Epoch 78/120\n",
      "892/892 [==============================] - 122s 137ms/step - loss: 0.6580 - accuracy: 0.5471\n",
      "Epoch 79/120\n",
      "892/892 [==============================] - 122s 137ms/step - loss: 0.6439 - accuracy: 0.5561\n",
      "Epoch 80/120\n",
      "892/892 [==============================] - 122s 137ms/step - loss: 0.6375 - accuracy: 0.5639\n",
      "Epoch 81/120\n",
      "892/892 [==============================] - 123s 138ms/step - loss: 0.6368 - accuracy: 0.5673\n",
      "Epoch 82/120\n",
      "892/892 [==============================] - 122s 137ms/step - loss: 0.6205 - accuracy: 0.5751\n",
      "Epoch 83/120\n",
      "892/892 [==============================] - 123s 138ms/step - loss: 0.6199 - accuracy: 0.5807\n",
      "Epoch 84/120\n",
      "892/892 [==============================] - 122s 137ms/step - loss: 0.6190 - accuracy: 0.5661\n",
      "Epoch 85/120\n",
      "892/892 [==============================] - 122s 137ms/step - loss: 0.6068 - accuracy: 0.5774\n",
      "Epoch 86/120\n",
      "892/892 [==============================] - 132s 148ms/step - loss: 0.6019 - accuracy: 0.5874\n",
      "Epoch 87/120\n",
      "892/892 [==============================] - 124s 139ms/step - loss: 0.5952 - accuracy: 0.5830\n",
      "Epoch 88/120\n",
      " 32/892 [>.............................] - ETA: 1:57 - loss: 0.5682 - accuracy: 0.6875"
     ]
    }
   ],
   "source": [
    "from keras.models import Sequential\n",
    "from keras.layers import Dense, Conv2D, Flatten, Dropout, MaxPooling2D\n",
    "cvscores = []\n",
    "i = 0\n",
    "for train, test in kfold.split(images_x, images_y):\n",
    "    # create model\n",
    "    model = Sequential()\n",
    "    model.add(Conv2D(256, (3,3), activation='relu', input_shape=(PIXEL_LENGTH,PIXEL_LENGTH, BAND_WIDTH)))\n",
    "    model.add(Conv2D(128, (3,3), activation='relu'))\n",
    "    model.add(MaxPooling2D(pool_size = (2,2)))\n",
    "    model.add(Flatten())\n",
    "    model.add(Dropout(0.5))\n",
    "    model.add(Dense(1, activation='sigmoid'))\n",
    "    # Compile model\n",
    "    model.compile(loss='binary_crossentropy', optimizer='adam', metrics=['accuracy'])\n",
    "    # Fit the model\n",
    "    model.fit(images_x[train], images_y[train], epochs=EPOCH)\n",
    "    # evaluate the model\n",
    "    scores = model.evaluate(images_x[test], images_y[test], verbose=0)\n",
    "    print(\"%s: %.2f%%\" % (model.metrics_names[1], scores[1]*100))\n",
    "    cvscores.append(scores[1] * 100)\n",
    "    model.save(\"model\"+str(i)+\".h5\")\n",
    "    i += 1\n",
    "print(\"%.2f%% (+/- %.2f%%)\" % (np.mean(cvscores), np.std(cvscores)))"
   ]
  },
  {
   "cell_type": "code",
   "execution_count": null,
   "metadata": {},
   "outputs": [],
   "source": [
    "#from keras.models import load_model\n",
    "# load model\n",
    "#model = load_model('model0.h5')\n",
    "# summarize model.\n",
    "#model.summary()"
   ]
  },
  {
   "cell_type": "code",
   "execution_count": null,
   "metadata": {},
   "outputs": [],
   "source": []
  }
 ],
 "metadata": {
  "kernelspec": {
   "display_name": "Python 3",
   "language": "python",
   "name": "python3"
  },
  "language_info": {
   "codemirror_mode": {
    "name": "ipython",
    "version": 3
   },
   "file_extension": ".py",
   "mimetype": "text/x-python",
   "name": "python",
   "nbconvert_exporter": "python",
   "pygments_lexer": "ipython3",
   "version": "3.7.7"
  }
 },
 "nbformat": 4,
 "nbformat_minor": 4
}
